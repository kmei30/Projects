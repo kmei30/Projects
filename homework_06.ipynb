{
 "cells": [
  {
   "cell_type": "markdown",
   "id": "e746da0e",
   "metadata": {},
   "source": [
    "# STAT 207 Homework 6 [25 points]\n",
    "\n",
    "## Feature Selection for Linear Models"
   ]
  },
  {
   "cell_type": "markdown",
   "id": "6fef820a",
   "metadata": {},
   "source": [
    "Due: Friday, October 6, end of day (11:59 pm CT)\n",
    "\n",
    "<hr>"
   ]
  },
  {
   "cell_type": "markdown",
   "id": "c4d94493",
   "metadata": {},
   "source": [
    "## Imports \n",
    "\n",
    "Run the following code cell to import the necessary packages into the file.  You may import additional packages, as needed for this assignment."
   ]
  },
  {
   "cell_type": "code",
   "execution_count": 2,
   "id": "25c92b96",
   "metadata": {},
   "outputs": [],
   "source": [
    "import pandas as pd\n",
    "import matplotlib.pyplot as plt\n",
    "import seaborn as sns; sns.set()\n",
    "from sklearn.model_selection import train_test_split\n",
    "from sklearn.linear_model import LinearRegression\n",
    "import statsmodels.formula.api as smf"
   ]
  },
  {
   "cell_type": "markdown",
   "id": "ac088395",
   "metadata": {},
   "source": [
    "## The Data\n",
    "\n",
    "A famous study called \"SUPPORT\" (Study to Understand Prognoses Preferences Outcomes and Risks of Treatment) was conducted to determine what factors affected or predicted outcomes, including how long a patient remained in the hospital.\n",
    "\n",
    "We will use a random sample of 580 seriously ill hospitalized patients from the SUPPORT study, with the following variables:\n",
    "\n",
    "- **Days**: day to death or hospital discharge\n",
    "- **Age**: age on day of hospital admission\n",
    "- **Sex**: female or male\n",
    "- **Comorbidity**: patient diagnosed with more than one chronic disease\n",
    "- **EdYears**: years of education\n",
    "- **Education**: education level: high or low\n",
    "- **Income**: income level: high or low\n",
    "- **Charges**: hospital charges, in dollars\n",
    "- **Care**: level of care required: high or low\n",
    "- **Race**: Non-white or white\n",
    "- **Pressure**: Blood pressure, in mmHg\n",
    "- **Blood**: white blood cell count, in gm/dL\n",
    "- **Rate**: heart rate, in bpm\n",
    "\n",
    "This is the same data studied in Homework 5.\n",
    "\n",
    "Run the code in the cell below to read in the cleaned data for this document.  The data is saved as `df` with this code.  "
   ]
  },
  {
   "cell_type": "code",
   "execution_count": 3,
   "id": "7a2db7bb",
   "metadata": {},
   "outputs": [
    {
     "data": {
      "text/html": [
       "<div>\n",
       "<style scoped>\n",
       "    .dataframe tbody tr th:only-of-type {\n",
       "        vertical-align: middle;\n",
       "    }\n",
       "\n",
       "    .dataframe tbody tr th {\n",
       "        vertical-align: top;\n",
       "    }\n",
       "\n",
       "    .dataframe thead th {\n",
       "        text-align: right;\n",
       "    }\n",
       "</style>\n",
       "<table border=\"1\" class=\"dataframe\">\n",
       "  <thead>\n",
       "    <tr style=\"text-align: right;\">\n",
       "      <th></th>\n",
       "      <th>Days</th>\n",
       "      <th>Age</th>\n",
       "      <th>Sex</th>\n",
       "      <th>Comorbidity</th>\n",
       "      <th>EdYears</th>\n",
       "      <th>Education</th>\n",
       "      <th>Income</th>\n",
       "      <th>Charges</th>\n",
       "      <th>Care</th>\n",
       "      <th>Race</th>\n",
       "      <th>Pressure</th>\n",
       "      <th>Blood</th>\n",
       "      <th>Rate</th>\n",
       "    </tr>\n",
       "  </thead>\n",
       "  <tbody>\n",
       "    <tr>\n",
       "      <th>0</th>\n",
       "      <td>8</td>\n",
       "      <td>42.258972</td>\n",
       "      <td>female</td>\n",
       "      <td>no</td>\n",
       "      <td>11</td>\n",
       "      <td>low</td>\n",
       "      <td>high</td>\n",
       "      <td>9914.0</td>\n",
       "      <td>low</td>\n",
       "      <td>non-white</td>\n",
       "      <td>84</td>\n",
       "      <td>11.298828</td>\n",
       "      <td>94</td>\n",
       "    </tr>\n",
       "    <tr>\n",
       "      <th>1</th>\n",
       "      <td>14</td>\n",
       "      <td>63.662994</td>\n",
       "      <td>female</td>\n",
       "      <td>no</td>\n",
       "      <td>22</td>\n",
       "      <td>high</td>\n",
       "      <td>high</td>\n",
       "      <td>283303.0</td>\n",
       "      <td>high</td>\n",
       "      <td>white</td>\n",
       "      <td>69</td>\n",
       "      <td>30.097656</td>\n",
       "      <td>108</td>\n",
       "    </tr>\n",
       "    <tr>\n",
       "      <th>2</th>\n",
       "      <td>21</td>\n",
       "      <td>41.521973</td>\n",
       "      <td>male</td>\n",
       "      <td>yes</td>\n",
       "      <td>18</td>\n",
       "      <td>high</td>\n",
       "      <td>high</td>\n",
       "      <td>320843.0</td>\n",
       "      <td>high</td>\n",
       "      <td>white</td>\n",
       "      <td>66</td>\n",
       "      <td>0.199982</td>\n",
       "      <td>130</td>\n",
       "    </tr>\n",
       "    <tr>\n",
       "      <th>3</th>\n",
       "      <td>4</td>\n",
       "      <td>41.959991</td>\n",
       "      <td>male</td>\n",
       "      <td>yes</td>\n",
       "      <td>16</td>\n",
       "      <td>high</td>\n",
       "      <td>high</td>\n",
       "      <td>4173.0</td>\n",
       "      <td>low</td>\n",
       "      <td>white</td>\n",
       "      <td>97</td>\n",
       "      <td>10.798828</td>\n",
       "      <td>88</td>\n",
       "    </tr>\n",
       "    <tr>\n",
       "      <th>4</th>\n",
       "      <td>11</td>\n",
       "      <td>52.089996</td>\n",
       "      <td>male</td>\n",
       "      <td>yes</td>\n",
       "      <td>8</td>\n",
       "      <td>low</td>\n",
       "      <td>high</td>\n",
       "      <td>13414.0</td>\n",
       "      <td>low</td>\n",
       "      <td>white</td>\n",
       "      <td>89</td>\n",
       "      <td>6.399414</td>\n",
       "      <td>92</td>\n",
       "    </tr>\n",
       "    <tr>\n",
       "      <th>...</th>\n",
       "      <td>...</td>\n",
       "      <td>...</td>\n",
       "      <td>...</td>\n",
       "      <td>...</td>\n",
       "      <td>...</td>\n",
       "      <td>...</td>\n",
       "      <td>...</td>\n",
       "      <td>...</td>\n",
       "      <td>...</td>\n",
       "      <td>...</td>\n",
       "      <td>...</td>\n",
       "      <td>...</td>\n",
       "      <td>...</td>\n",
       "    </tr>\n",
       "    <tr>\n",
       "      <th>575</th>\n",
       "      <td>13</td>\n",
       "      <td>70.091980</td>\n",
       "      <td>female</td>\n",
       "      <td>yes</td>\n",
       "      <td>9</td>\n",
       "      <td>low</td>\n",
       "      <td>low</td>\n",
       "      <td>14271.0</td>\n",
       "      <td>high</td>\n",
       "      <td>white</td>\n",
       "      <td>65</td>\n",
       "      <td>38.398438</td>\n",
       "      <td>104</td>\n",
       "    </tr>\n",
       "    <tr>\n",
       "      <th>576</th>\n",
       "      <td>4</td>\n",
       "      <td>81.721985</td>\n",
       "      <td>male</td>\n",
       "      <td>yes</td>\n",
       "      <td>8</td>\n",
       "      <td>low</td>\n",
       "      <td>low</td>\n",
       "      <td>3043.0</td>\n",
       "      <td>low</td>\n",
       "      <td>white</td>\n",
       "      <td>71</td>\n",
       "      <td>4.599609</td>\n",
       "      <td>67</td>\n",
       "    </tr>\n",
       "    <tr>\n",
       "      <th>577</th>\n",
       "      <td>3</td>\n",
       "      <td>74.521973</td>\n",
       "      <td>female</td>\n",
       "      <td>yes</td>\n",
       "      <td>8</td>\n",
       "      <td>low</td>\n",
       "      <td>high</td>\n",
       "      <td>2172.0</td>\n",
       "      <td>low</td>\n",
       "      <td>white</td>\n",
       "      <td>99</td>\n",
       "      <td>7.599609</td>\n",
       "      <td>110</td>\n",
       "    </tr>\n",
       "    <tr>\n",
       "      <th>578</th>\n",
       "      <td>6</td>\n",
       "      <td>49.116974</td>\n",
       "      <td>male</td>\n",
       "      <td>yes</td>\n",
       "      <td>8</td>\n",
       "      <td>low</td>\n",
       "      <td>low</td>\n",
       "      <td>5799.0</td>\n",
       "      <td>low</td>\n",
       "      <td>white</td>\n",
       "      <td>108</td>\n",
       "      <td>8.898438</td>\n",
       "      <td>87</td>\n",
       "    </tr>\n",
       "    <tr>\n",
       "      <th>579</th>\n",
       "      <td>9</td>\n",
       "      <td>18.414993</td>\n",
       "      <td>male</td>\n",
       "      <td>yes</td>\n",
       "      <td>12</td>\n",
       "      <td>low</td>\n",
       "      <td>high</td>\n",
       "      <td>22047.0</td>\n",
       "      <td>high</td>\n",
       "      <td>white</td>\n",
       "      <td>67</td>\n",
       "      <td>12.099609</td>\n",
       "      <td>66</td>\n",
       "    </tr>\n",
       "  </tbody>\n",
       "</table>\n",
       "<p>580 rows × 13 columns</p>\n",
       "</div>"
      ],
      "text/plain": [
       "     Days        Age     Sex Comorbidity  EdYears Education Income   Charges  \\\n",
       "0       8  42.258972  female          no       11       low   high    9914.0   \n",
       "1      14  63.662994  female          no       22      high   high  283303.0   \n",
       "2      21  41.521973    male         yes       18      high   high  320843.0   \n",
       "3       4  41.959991    male         yes       16      high   high    4173.0   \n",
       "4      11  52.089996    male         yes        8       low   high   13414.0   \n",
       "..    ...        ...     ...         ...      ...       ...    ...       ...   \n",
       "575    13  70.091980  female         yes        9       low    low   14271.0   \n",
       "576     4  81.721985    male         yes        8       low    low    3043.0   \n",
       "577     3  74.521973  female         yes        8       low   high    2172.0   \n",
       "578     6  49.116974    male         yes        8       low    low    5799.0   \n",
       "579     9  18.414993    male         yes       12       low   high   22047.0   \n",
       "\n",
       "     Care       Race  Pressure      Blood  Rate  \n",
       "0     low  non-white        84  11.298828    94  \n",
       "1    high      white        69  30.097656   108  \n",
       "2    high      white        66   0.199982   130  \n",
       "3     low      white        97  10.798828    88  \n",
       "4     low      white        89   6.399414    92  \n",
       "..    ...        ...       ...        ...   ...  \n",
       "575  high      white        65  38.398438   104  \n",
       "576   low      white        71   4.599609    67  \n",
       "577   low      white        99   7.599609   110  \n",
       "578   low      white       108   8.898438    87  \n",
       "579  high      white        67  12.099609    66  \n",
       "\n",
       "[580 rows x 13 columns]"
      ]
     },
     "execution_count": 3,
     "metadata": {},
     "output_type": "execute_result"
    }
   ],
   "source": [
    "df = pd.read_csv('hospital.csv')\n",
    "df"
   ]
  },
  {
   "cell_type": "markdown",
   "id": "01627e31",
   "metadata": {},
   "source": [
    "## 1. Research Purpose [2 points]\n",
    "\n",
    "One important step before beginning our analysis is to understand the purpose for the research.  This helps us to evaluate the importance of characteristics in our final model.  \n",
    "\n",
    "For each of the questions below, indicate the **purpose** of the study (prediction or understanding structures) and what the **focus** of the final fitted model should be (small errors or low model complexity).\n",
    "\n",
    "**a)** The hospital administration would like to estimate when a bed will be available for the next patient, so that they can report their availability for new patients and determine if they should add more beds to a ward.  To answer this question, they will search for an appropriate linear model using some of the variables above."
   ]
  },
  {
   "cell_type": "markdown",
   "id": "6e360723",
   "metadata": {},
   "source": [
    "The goal of this study is to predict when a bed will be available for the next patient. In this study, the focus of the fitted model should be on small errors because if there are big errors, then it will lead to issues such as providing an accurate estimate of bed availability. Therefore, there should be minimal errors so that the model can be reliable for making bed availability predictions."
   ]
  },
  {
   "cell_type": "markdown",
   "id": "c2a59b4a",
   "metadata": {},
   "source": [
    "**b)** A health administrator would like to develop an intervention to shorten the length of hospital stays.  They would like to determine patient characteristics associated with longer hospital stays, so that they can target their intervention to those with the most at-risk demographic and health characteristics.  To answer this question, they will search for an appropriate linear model using some of the variables above."
   ]
  },
  {
   "cell_type": "markdown",
   "id": "8664d2f6",
   "metadata": {},
   "source": [
    "The goal of this study is to understand structures, as the goal is to determine patient characteristics associated with longer hospital stays. Therefore, we want to understand the various factors associated with a longer hospital stay rather than making specific predictions. In this study, the focus of the fitted model should be on low model complexity because a simple model will be easier to interpret. As the goal is to identify patient characteristics associated with longer hospital stays, a low model complexity will allow the researchers to identify any relationships between different characteristics."
   ]
  },
  {
   "cell_type": "markdown",
   "id": "73183356",
   "metadata": {},
   "source": [
    "## 2. Fitting our Full Model [3 points]\n",
    "\n",
    "We will begin by fitting a model that incorporates all of our possible predictor variables (as specified below).  \n",
    "\n",
    "**a)** Create a training and testing dataset for this data, using a random state of 9876 with 80% of the observations in the training set and 20% in the test set.  **Note:** this is different from the training and test set separation in Homework 5."
   ]
  },
  {
   "cell_type": "code",
   "execution_count": 4,
   "id": "44209de6",
   "metadata": {},
   "outputs": [
    {
     "data": {
      "text/html": [
       "<div>\n",
       "<style scoped>\n",
       "    .dataframe tbody tr th:only-of-type {\n",
       "        vertical-align: middle;\n",
       "    }\n",
       "\n",
       "    .dataframe tbody tr th {\n",
       "        vertical-align: top;\n",
       "    }\n",
       "\n",
       "    .dataframe thead th {\n",
       "        text-align: right;\n",
       "    }\n",
       "</style>\n",
       "<table border=\"1\" class=\"dataframe\">\n",
       "  <thead>\n",
       "    <tr style=\"text-align: right;\">\n",
       "      <th></th>\n",
       "      <th>Days</th>\n",
       "      <th>Age</th>\n",
       "      <th>Sex</th>\n",
       "      <th>Comorbidity</th>\n",
       "      <th>EdYears</th>\n",
       "      <th>Education</th>\n",
       "      <th>Income</th>\n",
       "      <th>Charges</th>\n",
       "      <th>Care</th>\n",
       "      <th>Race</th>\n",
       "      <th>Pressure</th>\n",
       "      <th>Blood</th>\n",
       "      <th>Rate</th>\n",
       "    </tr>\n",
       "  </thead>\n",
       "  <tbody>\n",
       "    <tr>\n",
       "      <th>163</th>\n",
       "      <td>11</td>\n",
       "      <td>66.345947</td>\n",
       "      <td>female</td>\n",
       "      <td>yes</td>\n",
       "      <td>14</td>\n",
       "      <td>high</td>\n",
       "      <td>high</td>\n",
       "      <td>12506.00000</td>\n",
       "      <td>low</td>\n",
       "      <td>white</td>\n",
       "      <td>103</td>\n",
       "      <td>7.500000</td>\n",
       "      <td>100</td>\n",
       "    </tr>\n",
       "    <tr>\n",
       "      <th>0</th>\n",
       "      <td>8</td>\n",
       "      <td>42.258972</td>\n",
       "      <td>female</td>\n",
       "      <td>no</td>\n",
       "      <td>11</td>\n",
       "      <td>low</td>\n",
       "      <td>high</td>\n",
       "      <td>9914.00000</td>\n",
       "      <td>low</td>\n",
       "      <td>non-white</td>\n",
       "      <td>84</td>\n",
       "      <td>11.298828</td>\n",
       "      <td>94</td>\n",
       "    </tr>\n",
       "    <tr>\n",
       "      <th>519</th>\n",
       "      <td>10</td>\n",
       "      <td>64.245972</td>\n",
       "      <td>female</td>\n",
       "      <td>yes</td>\n",
       "      <td>12</td>\n",
       "      <td>low</td>\n",
       "      <td>low</td>\n",
       "      <td>6996.00000</td>\n",
       "      <td>low</td>\n",
       "      <td>white</td>\n",
       "      <td>70</td>\n",
       "      <td>6.399414</td>\n",
       "      <td>130</td>\n",
       "    </tr>\n",
       "    <tr>\n",
       "      <th>15</th>\n",
       "      <td>62</td>\n",
       "      <td>38.496979</td>\n",
       "      <td>male</td>\n",
       "      <td>yes</td>\n",
       "      <td>17</td>\n",
       "      <td>high</td>\n",
       "      <td>high</td>\n",
       "      <td>463001.00000</td>\n",
       "      <td>high</td>\n",
       "      <td>white</td>\n",
       "      <td>73</td>\n",
       "      <td>10.099609</td>\n",
       "      <td>130</td>\n",
       "    </tr>\n",
       "    <tr>\n",
       "      <th>189</th>\n",
       "      <td>21</td>\n",
       "      <td>57.647980</td>\n",
       "      <td>female</td>\n",
       "      <td>yes</td>\n",
       "      <td>12</td>\n",
       "      <td>low</td>\n",
       "      <td>high</td>\n",
       "      <td>45167.53125</td>\n",
       "      <td>high</td>\n",
       "      <td>white</td>\n",
       "      <td>78</td>\n",
       "      <td>11.000000</td>\n",
       "      <td>112</td>\n",
       "    </tr>\n",
       "    <tr>\n",
       "      <th>...</th>\n",
       "      <td>...</td>\n",
       "      <td>...</td>\n",
       "      <td>...</td>\n",
       "      <td>...</td>\n",
       "      <td>...</td>\n",
       "      <td>...</td>\n",
       "      <td>...</td>\n",
       "      <td>...</td>\n",
       "      <td>...</td>\n",
       "      <td>...</td>\n",
       "      <td>...</td>\n",
       "      <td>...</td>\n",
       "      <td>...</td>\n",
       "    </tr>\n",
       "    <tr>\n",
       "      <th>405</th>\n",
       "      <td>3</td>\n",
       "      <td>75.096985</td>\n",
       "      <td>male</td>\n",
       "      <td>yes</td>\n",
       "      <td>12</td>\n",
       "      <td>low</td>\n",
       "      <td>low</td>\n",
       "      <td>1680.00000</td>\n",
       "      <td>low</td>\n",
       "      <td>white</td>\n",
       "      <td>99</td>\n",
       "      <td>9.099609</td>\n",
       "      <td>93</td>\n",
       "    </tr>\n",
       "    <tr>\n",
       "      <th>373</th>\n",
       "      <td>7</td>\n",
       "      <td>58.400970</td>\n",
       "      <td>female</td>\n",
       "      <td>yes</td>\n",
       "      <td>14</td>\n",
       "      <td>high</td>\n",
       "      <td>low</td>\n",
       "      <td>5292.00000</td>\n",
       "      <td>low</td>\n",
       "      <td>white</td>\n",
       "      <td>99</td>\n",
       "      <td>3.299805</td>\n",
       "      <td>80</td>\n",
       "    </tr>\n",
       "    <tr>\n",
       "      <th>27</th>\n",
       "      <td>8</td>\n",
       "      <td>66.140991</td>\n",
       "      <td>male</td>\n",
       "      <td>yes</td>\n",
       "      <td>16</td>\n",
       "      <td>high</td>\n",
       "      <td>high</td>\n",
       "      <td>21075.00000</td>\n",
       "      <td>low</td>\n",
       "      <td>white</td>\n",
       "      <td>108</td>\n",
       "      <td>14.099609</td>\n",
       "      <td>132</td>\n",
       "    </tr>\n",
       "    <tr>\n",
       "      <th>391</th>\n",
       "      <td>4</td>\n",
       "      <td>62.452972</td>\n",
       "      <td>male</td>\n",
       "      <td>yes</td>\n",
       "      <td>11</td>\n",
       "      <td>low</td>\n",
       "      <td>low</td>\n",
       "      <td>3041.00000</td>\n",
       "      <td>low</td>\n",
       "      <td>non-white</td>\n",
       "      <td>106</td>\n",
       "      <td>6.699219</td>\n",
       "      <td>126</td>\n",
       "    </tr>\n",
       "    <tr>\n",
       "      <th>550</th>\n",
       "      <td>17</td>\n",
       "      <td>66.855957</td>\n",
       "      <td>female</td>\n",
       "      <td>yes</td>\n",
       "      <td>12</td>\n",
       "      <td>low</td>\n",
       "      <td>high</td>\n",
       "      <td>30742.00000</td>\n",
       "      <td>low</td>\n",
       "      <td>non-white</td>\n",
       "      <td>58</td>\n",
       "      <td>10.500000</td>\n",
       "      <td>70</td>\n",
       "    </tr>\n",
       "  </tbody>\n",
       "</table>\n",
       "<p>464 rows × 13 columns</p>\n",
       "</div>"
      ],
      "text/plain": [
       "     Days        Age     Sex Comorbidity  EdYears Education Income  \\\n",
       "163    11  66.345947  female         yes       14      high   high   \n",
       "0       8  42.258972  female          no       11       low   high   \n",
       "519    10  64.245972  female         yes       12       low    low   \n",
       "15     62  38.496979    male         yes       17      high   high   \n",
       "189    21  57.647980  female         yes       12       low   high   \n",
       "..    ...        ...     ...         ...      ...       ...    ...   \n",
       "405     3  75.096985    male         yes       12       low    low   \n",
       "373     7  58.400970  female         yes       14      high    low   \n",
       "27      8  66.140991    male         yes       16      high   high   \n",
       "391     4  62.452972    male         yes       11       low    low   \n",
       "550    17  66.855957  female         yes       12       low   high   \n",
       "\n",
       "          Charges  Care       Race  Pressure      Blood  Rate  \n",
       "163   12506.00000   low      white       103   7.500000   100  \n",
       "0      9914.00000   low  non-white        84  11.298828    94  \n",
       "519    6996.00000   low      white        70   6.399414   130  \n",
       "15   463001.00000  high      white        73  10.099609   130  \n",
       "189   45167.53125  high      white        78  11.000000   112  \n",
       "..            ...   ...        ...       ...        ...   ...  \n",
       "405    1680.00000   low      white        99   9.099609    93  \n",
       "373    5292.00000   low      white        99   3.299805    80  \n",
       "27    21075.00000   low      white       108  14.099609   132  \n",
       "391    3041.00000   low  non-white       106   6.699219   126  \n",
       "550   30742.00000   low  non-white        58  10.500000    70  \n",
       "\n",
       "[464 rows x 13 columns]"
      ]
     },
     "execution_count": 4,
     "metadata": {},
     "output_type": "execute_result"
    }
   ],
   "source": [
    "df_train, df_test = train_test_split(df, test_size=0.2, random_state=9876)\n",
    "df_train"
   ]
  },
  {
   "cell_type": "code",
   "execution_count": 5,
   "id": "8764fdbd",
   "metadata": {},
   "outputs": [
    {
     "data": {
      "text/html": [
       "<div>\n",
       "<style scoped>\n",
       "    .dataframe tbody tr th:only-of-type {\n",
       "        vertical-align: middle;\n",
       "    }\n",
       "\n",
       "    .dataframe tbody tr th {\n",
       "        vertical-align: top;\n",
       "    }\n",
       "\n",
       "    .dataframe thead th {\n",
       "        text-align: right;\n",
       "    }\n",
       "</style>\n",
       "<table border=\"1\" class=\"dataframe\">\n",
       "  <thead>\n",
       "    <tr style=\"text-align: right;\">\n",
       "      <th></th>\n",
       "      <th>Days</th>\n",
       "      <th>Age</th>\n",
       "      <th>Sex</th>\n",
       "      <th>Comorbidity</th>\n",
       "      <th>EdYears</th>\n",
       "      <th>Education</th>\n",
       "      <th>Income</th>\n",
       "      <th>Charges</th>\n",
       "      <th>Care</th>\n",
       "      <th>Race</th>\n",
       "      <th>Pressure</th>\n",
       "      <th>Blood</th>\n",
       "      <th>Rate</th>\n",
       "    </tr>\n",
       "  </thead>\n",
       "  <tbody>\n",
       "    <tr>\n",
       "      <th>427</th>\n",
       "      <td>18</td>\n",
       "      <td>80.462952</td>\n",
       "      <td>female</td>\n",
       "      <td>yes</td>\n",
       "      <td>8</td>\n",
       "      <td>low</td>\n",
       "      <td>low</td>\n",
       "      <td>30255.00000</td>\n",
       "      <td>high</td>\n",
       "      <td>white</td>\n",
       "      <td>124</td>\n",
       "      <td>9.798828</td>\n",
       "      <td>45</td>\n",
       "    </tr>\n",
       "    <tr>\n",
       "      <th>385</th>\n",
       "      <td>18</td>\n",
       "      <td>35.060974</td>\n",
       "      <td>female</td>\n",
       "      <td>yes</td>\n",
       "      <td>14</td>\n",
       "      <td>high</td>\n",
       "      <td>high</td>\n",
       "      <td>19369.00000</td>\n",
       "      <td>high</td>\n",
       "      <td>white</td>\n",
       "      <td>72</td>\n",
       "      <td>0.149994</td>\n",
       "      <td>96</td>\n",
       "    </tr>\n",
       "    <tr>\n",
       "      <th>380</th>\n",
       "      <td>3</td>\n",
       "      <td>60.566986</td>\n",
       "      <td>female</td>\n",
       "      <td>yes</td>\n",
       "      <td>10</td>\n",
       "      <td>low</td>\n",
       "      <td>low</td>\n",
       "      <td>2917.00000</td>\n",
       "      <td>low</td>\n",
       "      <td>white</td>\n",
       "      <td>87</td>\n",
       "      <td>6.599609</td>\n",
       "      <td>87</td>\n",
       "    </tr>\n",
       "    <tr>\n",
       "      <th>2</th>\n",
       "      <td>21</td>\n",
       "      <td>41.521973</td>\n",
       "      <td>male</td>\n",
       "      <td>yes</td>\n",
       "      <td>18</td>\n",
       "      <td>high</td>\n",
       "      <td>high</td>\n",
       "      <td>320843.00000</td>\n",
       "      <td>high</td>\n",
       "      <td>white</td>\n",
       "      <td>66</td>\n",
       "      <td>0.199982</td>\n",
       "      <td>130</td>\n",
       "    </tr>\n",
       "    <tr>\n",
       "      <th>211</th>\n",
       "      <td>12</td>\n",
       "      <td>56.308990</td>\n",
       "      <td>female</td>\n",
       "      <td>yes</td>\n",
       "      <td>12</td>\n",
       "      <td>low</td>\n",
       "      <td>high</td>\n",
       "      <td>16926.09375</td>\n",
       "      <td>low</td>\n",
       "      <td>white</td>\n",
       "      <td>81</td>\n",
       "      <td>11.298828</td>\n",
       "      <td>118</td>\n",
       "    </tr>\n",
       "    <tr>\n",
       "      <th>...</th>\n",
       "      <td>...</td>\n",
       "      <td>...</td>\n",
       "      <td>...</td>\n",
       "      <td>...</td>\n",
       "      <td>...</td>\n",
       "      <td>...</td>\n",
       "      <td>...</td>\n",
       "      <td>...</td>\n",
       "      <td>...</td>\n",
       "      <td>...</td>\n",
       "      <td>...</td>\n",
       "      <td>...</td>\n",
       "      <td>...</td>\n",
       "    </tr>\n",
       "    <tr>\n",
       "      <th>476</th>\n",
       "      <td>6</td>\n",
       "      <td>76.823975</td>\n",
       "      <td>female</td>\n",
       "      <td>yes</td>\n",
       "      <td>12</td>\n",
       "      <td>low</td>\n",
       "      <td>low</td>\n",
       "      <td>7858.00000</td>\n",
       "      <td>low</td>\n",
       "      <td>non-white</td>\n",
       "      <td>71</td>\n",
       "      <td>18.398438</td>\n",
       "      <td>80</td>\n",
       "    </tr>\n",
       "    <tr>\n",
       "      <th>400</th>\n",
       "      <td>5</td>\n",
       "      <td>31.202988</td>\n",
       "      <td>male</td>\n",
       "      <td>yes</td>\n",
       "      <td>13</td>\n",
       "      <td>high</td>\n",
       "      <td>low</td>\n",
       "      <td>7541.00000</td>\n",
       "      <td>high</td>\n",
       "      <td>white</td>\n",
       "      <td>77</td>\n",
       "      <td>18.000000</td>\n",
       "      <td>114</td>\n",
       "    </tr>\n",
       "    <tr>\n",
       "      <th>418</th>\n",
       "      <td>40</td>\n",
       "      <td>64.859985</td>\n",
       "      <td>male</td>\n",
       "      <td>no</td>\n",
       "      <td>12</td>\n",
       "      <td>low</td>\n",
       "      <td>high</td>\n",
       "      <td>110427.00000</td>\n",
       "      <td>high</td>\n",
       "      <td>white</td>\n",
       "      <td>118</td>\n",
       "      <td>8.099609</td>\n",
       "      <td>64</td>\n",
       "    </tr>\n",
       "    <tr>\n",
       "      <th>354</th>\n",
       "      <td>4</td>\n",
       "      <td>67.101990</td>\n",
       "      <td>male</td>\n",
       "      <td>yes</td>\n",
       "      <td>10</td>\n",
       "      <td>low</td>\n",
       "      <td>low</td>\n",
       "      <td>3856.00000</td>\n",
       "      <td>low</td>\n",
       "      <td>non-white</td>\n",
       "      <td>77</td>\n",
       "      <td>6.500000</td>\n",
       "      <td>50</td>\n",
       "    </tr>\n",
       "    <tr>\n",
       "      <th>392</th>\n",
       "      <td>15</td>\n",
       "      <td>35.137970</td>\n",
       "      <td>female</td>\n",
       "      <td>yes</td>\n",
       "      <td>12</td>\n",
       "      <td>low</td>\n",
       "      <td>high</td>\n",
       "      <td>38924.00000</td>\n",
       "      <td>high</td>\n",
       "      <td>white</td>\n",
       "      <td>67</td>\n",
       "      <td>17.597656</td>\n",
       "      <td>118</td>\n",
       "    </tr>\n",
       "  </tbody>\n",
       "</table>\n",
       "<p>116 rows × 13 columns</p>\n",
       "</div>"
      ],
      "text/plain": [
       "     Days        Age     Sex Comorbidity  EdYears Education Income  \\\n",
       "427    18  80.462952  female         yes        8       low    low   \n",
       "385    18  35.060974  female         yes       14      high   high   \n",
       "380     3  60.566986  female         yes       10       low    low   \n",
       "2      21  41.521973    male         yes       18      high   high   \n",
       "211    12  56.308990  female         yes       12       low   high   \n",
       "..    ...        ...     ...         ...      ...       ...    ...   \n",
       "476     6  76.823975  female         yes       12       low    low   \n",
       "400     5  31.202988    male         yes       13      high    low   \n",
       "418    40  64.859985    male          no       12       low   high   \n",
       "354     4  67.101990    male         yes       10       low    low   \n",
       "392    15  35.137970  female         yes       12       low   high   \n",
       "\n",
       "          Charges  Care       Race  Pressure      Blood  Rate  \n",
       "427   30255.00000  high      white       124   9.798828    45  \n",
       "385   19369.00000  high      white        72   0.149994    96  \n",
       "380    2917.00000   low      white        87   6.599609    87  \n",
       "2    320843.00000  high      white        66   0.199982   130  \n",
       "211   16926.09375   low      white        81  11.298828   118  \n",
       "..            ...   ...        ...       ...        ...   ...  \n",
       "476    7858.00000   low  non-white        71  18.398438    80  \n",
       "400    7541.00000  high      white        77  18.000000   114  \n",
       "418  110427.00000  high      white       118   8.099609    64  \n",
       "354    3856.00000   low  non-white        77   6.500000    50  \n",
       "392   38924.00000  high      white        67  17.597656   118  \n",
       "\n",
       "[116 rows x 13 columns]"
      ]
     },
     "execution_count": 5,
     "metadata": {},
     "output_type": "execute_result"
    }
   ],
   "source": [
    "df_test"
   ]
  },
  {
   "cell_type": "markdown",
   "id": "23e46794",
   "metadata": {},
   "source": [
    "**b)** For the purposes of this question, we want to be sure that we only include variables that could be determined or anticipated upon admittance to the hospital, so that our model can be applied to new patients.\n",
    "\n",
    "Fit a linear model to the training data to predict the length of the hospital stay (**Days**) with the following predictor variables: Age, Sex, Comorbidity, EdYears, Education, Income, Care, Race, Pressure, Blood, and Rate."
   ]
  },
  {
   "cell_type": "code",
   "execution_count": 6,
   "id": "b4457851",
   "metadata": {},
   "outputs": [
    {
     "data": {
      "text/html": [
       "<table class=\"simpletable\">\n",
       "<caption>OLS Regression Results</caption>\n",
       "<tr>\n",
       "  <th>Dep. Variable:</th>          <td>Days</td>       <th>  R-squared:         </th> <td>   0.150</td>\n",
       "</tr>\n",
       "<tr>\n",
       "  <th>Model:</th>                   <td>OLS</td>       <th>  Adj. R-squared:    </th> <td>   0.129</td>\n",
       "</tr>\n",
       "<tr>\n",
       "  <th>Method:</th>             <td>Least Squares</td>  <th>  F-statistic:       </th> <td>   7.230</td>\n",
       "</tr>\n",
       "<tr>\n",
       "  <th>Date:</th>             <td>Fri, 06 Oct 2023</td> <th>  Prob (F-statistic):</th> <td>2.13e-11</td>\n",
       "</tr>\n",
       "<tr>\n",
       "  <th>Time:</th>                 <td>14:45:19</td>     <th>  Log-Likelihood:    </th> <td> -2042.3</td>\n",
       "</tr>\n",
       "<tr>\n",
       "  <th>No. Observations:</th>      <td>   464</td>      <th>  AIC:               </th> <td>   4109.</td>\n",
       "</tr>\n",
       "<tr>\n",
       "  <th>Df Residuals:</th>          <td>   452</td>      <th>  BIC:               </th> <td>   4158.</td>\n",
       "</tr>\n",
       "<tr>\n",
       "  <th>Df Model:</th>              <td>    11</td>      <th>                     </th>     <td> </td>   \n",
       "</tr>\n",
       "<tr>\n",
       "  <th>Covariance Type:</th>      <td>nonrobust</td>    <th>                     </th>     <td> </td>   \n",
       "</tr>\n",
       "</table>\n",
       "<table class=\"simpletable\">\n",
       "<tr>\n",
       "           <td></td>             <th>coef</th>     <th>std err</th>      <th>t</th>      <th>P>|t|</th>  <th>[0.025</th>    <th>0.975]</th>  \n",
       "</tr>\n",
       "<tr>\n",
       "  <th>Intercept</th>          <td>   16.3417</td> <td>    9.863</td> <td>    1.657</td> <td> 0.098</td> <td>   -3.041</td> <td>   35.724</td>\n",
       "</tr>\n",
       "<tr>\n",
       "  <th>Sex[T.male]</th>        <td>   -2.3662</td> <td>    1.912</td> <td>   -1.238</td> <td> 0.216</td> <td>   -6.124</td> <td>    1.391</td>\n",
       "</tr>\n",
       "<tr>\n",
       "  <th>Comorbidity[T.yes]</th> <td>   -2.1125</td> <td>    3.139</td> <td>   -0.673</td> <td> 0.501</td> <td>   -8.281</td> <td>    4.056</td>\n",
       "</tr>\n",
       "<tr>\n",
       "  <th>Education[T.low]</th>   <td>    0.1577</td> <td>    2.969</td> <td>    0.053</td> <td> 0.958</td> <td>   -5.677</td> <td>    5.992</td>\n",
       "</tr>\n",
       "<tr>\n",
       "  <th>Income[T.low]</th>      <td>   -1.5625</td> <td>    2.090</td> <td>   -0.748</td> <td> 0.455</td> <td>   -5.670</td> <td>    2.545</td>\n",
       "</tr>\n",
       "<tr>\n",
       "  <th>Care[T.low]</th>        <td>  -11.5546</td> <td>    2.048</td> <td>   -5.641</td> <td> 0.000</td> <td>  -15.580</td> <td>   -7.529</td>\n",
       "</tr>\n",
       "<tr>\n",
       "  <th>Race[T.white]</th>      <td>    3.4544</td> <td>    2.379</td> <td>    1.452</td> <td> 0.147</td> <td>   -1.222</td> <td>    8.131</td>\n",
       "</tr>\n",
       "<tr>\n",
       "  <th>Age</th>                <td>   -0.0800</td> <td>    0.063</td> <td>   -1.270</td> <td> 0.205</td> <td>   -0.204</td> <td>    0.044</td>\n",
       "</tr>\n",
       "<tr>\n",
       "  <th>EdYears</th>            <td>   -0.3958</td> <td>    0.392</td> <td>   -1.011</td> <td> 0.313</td> <td>   -1.165</td> <td>    0.374</td>\n",
       "</tr>\n",
       "<tr>\n",
       "  <th>Pressure</th>           <td>    0.1224</td> <td>    0.036</td> <td>    3.421</td> <td> 0.001</td> <td>    0.052</td> <td>    0.193</td>\n",
       "</tr>\n",
       "<tr>\n",
       "  <th>Blood</th>              <td>    0.0488</td> <td>    0.119</td> <td>    0.409</td> <td> 0.683</td> <td>   -0.186</td> <td>    0.283</td>\n",
       "</tr>\n",
       "<tr>\n",
       "  <th>Rate</th>               <td>    0.0703</td> <td>    0.032</td> <td>    2.196</td> <td> 0.029</td> <td>    0.007</td> <td>    0.133</td>\n",
       "</tr>\n",
       "</table>\n",
       "<table class=\"simpletable\">\n",
       "<tr>\n",
       "  <th>Omnibus:</th>       <td>390.399</td> <th>  Durbin-Watson:     </th> <td>   1.981</td>\n",
       "</tr>\n",
       "<tr>\n",
       "  <th>Prob(Omnibus):</th> <td> 0.000</td>  <th>  Jarque-Bera (JB):  </th> <td>7914.321</td>\n",
       "</tr>\n",
       "<tr>\n",
       "  <th>Skew:</th>          <td> 3.615</td>  <th>  Prob(JB):          </th> <td>    0.00</td>\n",
       "</tr>\n",
       "<tr>\n",
       "  <th>Kurtosis:</th>      <td>21.897</td>  <th>  Cond. No.          </th> <td>1.60e+03</td>\n",
       "</tr>\n",
       "</table><br/><br/>Notes:<br/>[1] Standard Errors assume that the covariance matrix of the errors is correctly specified.<br/>[2] The condition number is large, 1.6e+03. This might indicate that there are<br/>strong multicollinearity or other numerical problems."
      ],
      "text/latex": [
       "\\begin{center}\n",
       "\\begin{tabular}{lclc}\n",
       "\\toprule\n",
       "\\textbf{Dep. Variable:}     &       Days       & \\textbf{  R-squared:         } &     0.150   \\\\\n",
       "\\textbf{Model:}             &       OLS        & \\textbf{  Adj. R-squared:    } &     0.129   \\\\\n",
       "\\textbf{Method:}            &  Least Squares   & \\textbf{  F-statistic:       } &     7.230   \\\\\n",
       "\\textbf{Date:}              & Fri, 06 Oct 2023 & \\textbf{  Prob (F-statistic):} &  2.13e-11   \\\\\n",
       "\\textbf{Time:}              &     14:45:19     & \\textbf{  Log-Likelihood:    } &   -2042.3   \\\\\n",
       "\\textbf{No. Observations:}  &         464      & \\textbf{  AIC:               } &     4109.   \\\\\n",
       "\\textbf{Df Residuals:}      &         452      & \\textbf{  BIC:               } &     4158.   \\\\\n",
       "\\textbf{Df Model:}          &          11      & \\textbf{                     } &             \\\\\n",
       "\\textbf{Covariance Type:}   &    nonrobust     & \\textbf{                     } &             \\\\\n",
       "\\bottomrule\n",
       "\\end{tabular}\n",
       "\\begin{tabular}{lcccccc}\n",
       "                            & \\textbf{coef} & \\textbf{std err} & \\textbf{t} & \\textbf{P$> |$t$|$} & \\textbf{[0.025} & \\textbf{0.975]}  \\\\\n",
       "\\midrule\n",
       "\\textbf{Intercept}          &      16.3417  &        9.863     &     1.657  &         0.098        &       -3.041    &       35.724     \\\\\n",
       "\\textbf{Sex[T.male]}        &      -2.3662  &        1.912     &    -1.238  &         0.216        &       -6.124    &        1.391     \\\\\n",
       "\\textbf{Comorbidity[T.yes]} &      -2.1125  &        3.139     &    -0.673  &         0.501        &       -8.281    &        4.056     \\\\\n",
       "\\textbf{Education[T.low]}   &       0.1577  &        2.969     &     0.053  &         0.958        &       -5.677    &        5.992     \\\\\n",
       "\\textbf{Income[T.low]}      &      -1.5625  &        2.090     &    -0.748  &         0.455        &       -5.670    &        2.545     \\\\\n",
       "\\textbf{Care[T.low]}        &     -11.5546  &        2.048     &    -5.641  &         0.000        &      -15.580    &       -7.529     \\\\\n",
       "\\textbf{Race[T.white]}      &       3.4544  &        2.379     &     1.452  &         0.147        &       -1.222    &        8.131     \\\\\n",
       "\\textbf{Age}                &      -0.0800  &        0.063     &    -1.270  &         0.205        &       -0.204    &        0.044     \\\\\n",
       "\\textbf{EdYears}            &      -0.3958  &        0.392     &    -1.011  &         0.313        &       -1.165    &        0.374     \\\\\n",
       "\\textbf{Pressure}           &       0.1224  &        0.036     &     3.421  &         0.001        &        0.052    &        0.193     \\\\\n",
       "\\textbf{Blood}              &       0.0488  &        0.119     &     0.409  &         0.683        &       -0.186    &        0.283     \\\\\n",
       "\\textbf{Rate}               &       0.0703  &        0.032     &     2.196  &         0.029        &        0.007    &        0.133     \\\\\n",
       "\\bottomrule\n",
       "\\end{tabular}\n",
       "\\begin{tabular}{lclc}\n",
       "\\textbf{Omnibus:}       & 390.399 & \\textbf{  Durbin-Watson:     } &    1.981  \\\\\n",
       "\\textbf{Prob(Omnibus):} &   0.000 & \\textbf{  Jarque-Bera (JB):  } & 7914.321  \\\\\n",
       "\\textbf{Skew:}          &   3.615 & \\textbf{  Prob(JB):          } &     0.00  \\\\\n",
       "\\textbf{Kurtosis:}      &  21.897 & \\textbf{  Cond. No.          } & 1.60e+03  \\\\\n",
       "\\bottomrule\n",
       "\\end{tabular}\n",
       "%\\caption{OLS Regression Results}\n",
       "\\end{center}\n",
       "\n",
       "Notes: \\newline\n",
       " [1] Standard Errors assume that the covariance matrix of the errors is correctly specified. \\newline\n",
       " [2] The condition number is large, 1.6e+03. This might indicate that there are \\newline\n",
       " strong multicollinearity or other numerical problems."
      ],
      "text/plain": [
       "<class 'statsmodels.iolib.summary.Summary'>\n",
       "\"\"\"\n",
       "                            OLS Regression Results                            \n",
       "==============================================================================\n",
       "Dep. Variable:                   Days   R-squared:                       0.150\n",
       "Model:                            OLS   Adj. R-squared:                  0.129\n",
       "Method:                 Least Squares   F-statistic:                     7.230\n",
       "Date:                Fri, 06 Oct 2023   Prob (F-statistic):           2.13e-11\n",
       "Time:                        14:45:19   Log-Likelihood:                -2042.3\n",
       "No. Observations:                 464   AIC:                             4109.\n",
       "Df Residuals:                     452   BIC:                             4158.\n",
       "Df Model:                          11                                         \n",
       "Covariance Type:            nonrobust                                         \n",
       "======================================================================================\n",
       "                         coef    std err          t      P>|t|      [0.025      0.975]\n",
       "--------------------------------------------------------------------------------------\n",
       "Intercept             16.3417      9.863      1.657      0.098      -3.041      35.724\n",
       "Sex[T.male]           -2.3662      1.912     -1.238      0.216      -6.124       1.391\n",
       "Comorbidity[T.yes]    -2.1125      3.139     -0.673      0.501      -8.281       4.056\n",
       "Education[T.low]       0.1577      2.969      0.053      0.958      -5.677       5.992\n",
       "Income[T.low]         -1.5625      2.090     -0.748      0.455      -5.670       2.545\n",
       "Care[T.low]          -11.5546      2.048     -5.641      0.000     -15.580      -7.529\n",
       "Race[T.white]          3.4544      2.379      1.452      0.147      -1.222       8.131\n",
       "Age                   -0.0800      0.063     -1.270      0.205      -0.204       0.044\n",
       "EdYears               -0.3958      0.392     -1.011      0.313      -1.165       0.374\n",
       "Pressure               0.1224      0.036      3.421      0.001       0.052       0.193\n",
       "Blood                  0.0488      0.119      0.409      0.683      -0.186       0.283\n",
       "Rate                   0.0703      0.032      2.196      0.029       0.007       0.133\n",
       "==============================================================================\n",
       "Omnibus:                      390.399   Durbin-Watson:                   1.981\n",
       "Prob(Omnibus):                  0.000   Jarque-Bera (JB):             7914.321\n",
       "Skew:                           3.615   Prob(JB):                         0.00\n",
       "Kurtosis:                      21.897   Cond. No.                     1.60e+03\n",
       "==============================================================================\n",
       "\n",
       "Notes:\n",
       "[1] Standard Errors assume that the covariance matrix of the errors is correctly specified.\n",
       "[2] The condition number is large, 1.6e+03. This might indicate that there are\n",
       "strong multicollinearity or other numerical problems.\n",
       "\"\"\""
      ]
     },
     "execution_count": 6,
     "metadata": {},
     "output_type": "execute_result"
    }
   ],
   "source": [
    "fit_model = smf.ols(\"Days ~ Age + Sex + Comorbidity + EdYears + Education + Income + Care + Race + Pressure + Blood + Rate\", df_train).fit()\n",
    "fit_model.summary()"
   ]
  },
  {
   "cell_type": "markdown",
   "id": "abd5dcea",
   "metadata": {},
   "source": [
    "**c)** What proportion of the variability of the length of the hospital stay can be explained by this linear model?"
   ]
  },
  {
   "cell_type": "code",
   "execution_count": 7,
   "id": "d1b1bd58",
   "metadata": {},
   "outputs": [
    {
     "data": {
      "text/plain": [
       "0.1496322662718187"
      ]
     },
     "execution_count": 7,
     "metadata": {},
     "output_type": "execute_result"
    }
   ],
   "source": [
    "fit_model.rsquared"
   ]
  },
  {
   "cell_type": "markdown",
   "id": "c043d687",
   "metadata": {},
   "source": [
    "## 3. Checking Model Assumptions for our Full Model [4.5 points]\n",
    "\n",
    "In Question 6 of Homework 5, we confirmed that two required assumptions are met (at least for the model that we fit last week).  In this question, we will check for strong multicollinearity to determine if our model is appropriate.\n",
    "\n",
    "**a)** Do you have evidence of strong multicollinearity between your quantitative predictor variables in the training data?  You can either make a graph or calculate summary statistics to answer this question."
   ]
  },
  {
   "cell_type": "code",
   "execution_count": 8,
   "id": "07eb6e8c",
   "metadata": {},
   "outputs": [
    {
     "data": {
      "text/html": [
       "<div>\n",
       "<style scoped>\n",
       "    .dataframe tbody tr th:only-of-type {\n",
       "        vertical-align: middle;\n",
       "    }\n",
       "\n",
       "    .dataframe tbody tr th {\n",
       "        vertical-align: top;\n",
       "    }\n",
       "\n",
       "    .dataframe thead th {\n",
       "        text-align: right;\n",
       "    }\n",
       "</style>\n",
       "<table border=\"1\" class=\"dataframe\">\n",
       "  <thead>\n",
       "    <tr style=\"text-align: right;\">\n",
       "      <th></th>\n",
       "      <th>Days</th>\n",
       "      <th>Age</th>\n",
       "      <th>EdYears</th>\n",
       "      <th>Charges</th>\n",
       "      <th>Pressure</th>\n",
       "      <th>Blood</th>\n",
       "      <th>Rate</th>\n",
       "    </tr>\n",
       "  </thead>\n",
       "  <tbody>\n",
       "    <tr>\n",
       "      <th>Days</th>\n",
       "      <td>1.000000</td>\n",
       "      <td>-0.097817</td>\n",
       "      <td>-0.043803</td>\n",
       "      <td>0.625903</td>\n",
       "      <td>0.142552</td>\n",
       "      <td>0.098109</td>\n",
       "      <td>0.214445</td>\n",
       "    </tr>\n",
       "    <tr>\n",
       "      <th>Age</th>\n",
       "      <td>-0.097817</td>\n",
       "      <td>1.000000</td>\n",
       "      <td>-0.141759</td>\n",
       "      <td>-0.131381</td>\n",
       "      <td>-0.032725</td>\n",
       "      <td>0.060425</td>\n",
       "      <td>-0.170896</td>\n",
       "    </tr>\n",
       "    <tr>\n",
       "      <th>EdYears</th>\n",
       "      <td>-0.043803</td>\n",
       "      <td>-0.141759</td>\n",
       "      <td>1.000000</td>\n",
       "      <td>0.064607</td>\n",
       "      <td>-0.041573</td>\n",
       "      <td>-0.081412</td>\n",
       "      <td>-0.050414</td>\n",
       "    </tr>\n",
       "    <tr>\n",
       "      <th>Charges</th>\n",
       "      <td>0.625903</td>\n",
       "      <td>-0.131381</td>\n",
       "      <td>0.064607</td>\n",
       "      <td>1.000000</td>\n",
       "      <td>0.002613</td>\n",
       "      <td>0.120632</td>\n",
       "      <td>0.259968</td>\n",
       "    </tr>\n",
       "    <tr>\n",
       "      <th>Pressure</th>\n",
       "      <td>0.142552</td>\n",
       "      <td>-0.032725</td>\n",
       "      <td>-0.041573</td>\n",
       "      <td>0.002613</td>\n",
       "      <td>1.000000</td>\n",
       "      <td>0.045190</td>\n",
       "      <td>0.070250</td>\n",
       "    </tr>\n",
       "    <tr>\n",
       "      <th>Blood</th>\n",
       "      <td>0.098109</td>\n",
       "      <td>0.060425</td>\n",
       "      <td>-0.081412</td>\n",
       "      <td>0.120632</td>\n",
       "      <td>0.045190</td>\n",
       "      <td>1.000000</td>\n",
       "      <td>0.151982</td>\n",
       "    </tr>\n",
       "    <tr>\n",
       "      <th>Rate</th>\n",
       "      <td>0.214445</td>\n",
       "      <td>-0.170896</td>\n",
       "      <td>-0.050414</td>\n",
       "      <td>0.259968</td>\n",
       "      <td>0.070250</td>\n",
       "      <td>0.151982</td>\n",
       "      <td>1.000000</td>\n",
       "    </tr>\n",
       "  </tbody>\n",
       "</table>\n",
       "</div>"
      ],
      "text/plain": [
       "              Days       Age   EdYears   Charges  Pressure     Blood      Rate\n",
       "Days      1.000000 -0.097817 -0.043803  0.625903  0.142552  0.098109  0.214445\n",
       "Age      -0.097817  1.000000 -0.141759 -0.131381 -0.032725  0.060425 -0.170896\n",
       "EdYears  -0.043803 -0.141759  1.000000  0.064607 -0.041573 -0.081412 -0.050414\n",
       "Charges   0.625903 -0.131381  0.064607  1.000000  0.002613  0.120632  0.259968\n",
       "Pressure  0.142552 -0.032725 -0.041573  0.002613  1.000000  0.045190  0.070250\n",
       "Blood     0.098109  0.060425 -0.081412  0.120632  0.045190  1.000000  0.151982\n",
       "Rate      0.214445 -0.170896 -0.050414  0.259968  0.070250  0.151982  1.000000"
      ]
     },
     "execution_count": 8,
     "metadata": {},
     "output_type": "execute_result"
    }
   ],
   "source": [
    "df_train.corr(numeric_only = True)"
   ]
  },
  {
   "cell_type": "markdown",
   "id": "47d80c66",
   "metadata": {},
   "source": [
    "**b)** Briefly interpret your results from **part a** to answer whether you have strong multicollinearity, and explain your reasoning."
   ]
  },
  {
   "cell_type": "markdown",
   "id": "0cb944e8",
   "metadata": {},
   "source": [
    "Based on my results from part a, it seems that I don't have strong multicollinearity between my quantitative predictor variables. For something to have strong multicollinearity, the correlation value needs to be close to 1 or -1.Overall, there isn't a strong multicollinearity between the quantitative predictor variables."
   ]
  },
  {
   "cell_type": "markdown",
   "id": "123eea63",
   "metadata": {},
   "source": [
    "**c)** We don't have an easy measure of multicollinearity for categorical variables, so we'll assess this one based on the meaning of our categorical variables.  Considering our categorical variables, what relationships might exist between categorical variables or between a categorical and a quantitative variable that you are concerned about?  Select at least one pair, explain why you are concerned, and examine the relationship visually or with summary statistics."
   ]
  },
  {
   "cell_type": "markdown",
   "id": "65b66b55",
   "metadata": {},
   "source": [
    "I am concerned about my variables Charges and Days because they have a correlation coefficient of 0.63, which is close to 1. If a correlation coefficient is close to 1 or -1, it could indicate multicollinearity."
   ]
  },
  {
   "cell_type": "code",
   "execution_count": 9,
   "id": "af8938f9",
   "metadata": {},
   "outputs": [
    {
     "data": {
      "text/html": [
       "<div>\n",
       "<style scoped>\n",
       "    .dataframe tbody tr th:only-of-type {\n",
       "        vertical-align: middle;\n",
       "    }\n",
       "\n",
       "    .dataframe tbody tr th {\n",
       "        vertical-align: top;\n",
       "    }\n",
       "\n",
       "    .dataframe thead th {\n",
       "        text-align: right;\n",
       "    }\n",
       "</style>\n",
       "<table border=\"1\" class=\"dataframe\">\n",
       "  <thead>\n",
       "    <tr style=\"text-align: right;\">\n",
       "      <th></th>\n",
       "      <th>Charges</th>\n",
       "      <th>Days</th>\n",
       "    </tr>\n",
       "  </thead>\n",
       "  <tbody>\n",
       "    <tr>\n",
       "      <th>Charges</th>\n",
       "      <td>1.000000</td>\n",
       "      <td>0.625903</td>\n",
       "    </tr>\n",
       "    <tr>\n",
       "      <th>Days</th>\n",
       "      <td>0.625903</td>\n",
       "      <td>1.000000</td>\n",
       "    </tr>\n",
       "  </tbody>\n",
       "</table>\n",
       "</div>"
      ],
      "text/plain": [
       "          Charges      Days\n",
       "Charges  1.000000  0.625903\n",
       "Days     0.625903  1.000000"
      ]
     },
     "execution_count": 9,
     "metadata": {},
     "output_type": "execute_result"
    }
   ],
   "source": [
    "df_train[['Charges','Days']].corr(numeric_only = True)"
   ]
  },
  {
   "cell_type": "markdown",
   "id": "a5cb7180",
   "metadata": {},
   "source": [
    "**d)** Finally, explain why multicollinearity is a concern for linear models."
   ]
  },
  {
   "cell_type": "markdown",
   "id": "1baed1e4",
   "metadata": {},
   "source": [
    "Multicollinearity is a concern for linear models because it makes it more difficult to predict each predictor variable accurately, as the standard errors of these predictor variables increase. Additionally, multicollinearity may contain interpretations that don't make sense. For example, with multicollinearity, there may be variables with opposite signs that you wouldn't expect, making it difficult to derive meaningful relationships between variables."
   ]
  },
  {
   "cell_type": "markdown",
   "id": "637912d1",
   "metadata": {},
   "source": [
    "## 4. Metrics for Model Fit [3.5 points]\n",
    "\n",
    "We know that our model from Question 2 has a large number of predictor variables.  We would like to select the right set of predictor variables so that our model is parsimonious.  We'll perform some model selection procedures to do so in this question and the next one.\n",
    "\n",
    "Before we fit multiple models, let's use our theoretical understanding to answer the following questions.\n",
    "\n",
    "**a)** How many possible models could be fit from the predictors allowed in Question 2b, assuming that we don't have any interaction terms between predictor variables?"
   ]
  },
  {
   "cell_type": "code",
   "execution_count": 10,
   "id": "e0a1b557",
   "metadata": {},
   "outputs": [
    {
     "data": {
      "text/plain": [
       "4096"
      ]
     },
     "execution_count": 10,
     "metadata": {},
     "output_type": "execute_result"
    }
   ],
   "source": [
    "2 ** 12"
   ]
  },
  {
   "cell_type": "markdown",
   "id": "46f50f8c",
   "metadata": {},
   "source": [
    "**b)** Without fitting any models, can we determine the model that will have the largest $R^2$?  If so, explain which model will have the largest $R^2$.  If not, explain why not."
   ]
  },
  {
   "cell_type": "markdown",
   "id": "9de0c81e",
   "metadata": {},
   "source": [
    "It is not possible to determine the largest R^2 without fitting any models because R^2 is the proportion of variance in the dependent variables and the independent variables explain that variation. The R^2 value is dependent on the relationship between the variables. If we don't fit a model, then we won't be able to determine which model has the largest R^2 value."
   ]
  },
  {
   "cell_type": "markdown",
   "id": "30df738f",
   "metadata": {},
   "source": [
    "**c)** Without fitting any models, can we determine the model that will have the largest adjusted $R^2$, or $R^2_{\\text{adj}}$?  If so, explain which model will have the largest $R^2_{\\text{adj}}$.  If not, explain why not."
   ]
  },
  {
   "cell_type": "markdown",
   "id": "c230936e",
   "metadata": {},
   "source": [
    "Again, it is not possible to determine the largest adjusted R^2 without fitting any models because the adjusted R^2 value depends on the variation between the dependent variable and how well the independent variable explains that variation. Additionally, if there is nonlinear relationships between variables, that would affect the adjusted R^2 value. Overall, it is not possible because the largest adjusted R^2 depends on the data and the model's complexity."
   ]
  },
  {
   "cell_type": "markdown",
   "id": "5b77b22b",
   "metadata": {},
   "source": [
    "**d)** What two model characteristics are balanced in the measure of the $R^2_{\\text{adj}}$?"
   ]
  },
  {
   "cell_type": "markdown",
   "id": "1d15ad20",
   "metadata": {},
   "source": [
    "Goodness of fit and model complexity."
   ]
  },
  {
   "cell_type": "markdown",
   "id": "369378c7",
   "metadata": {},
   "source": [
    "## 5. Selecting a Parsimonious Model [7 points]\n",
    "\n",
    "Now, we'll begin to search for our parsimonious model.  \n",
    "\n",
    "**a)** First, we'll perform model selection using backwards elimination and using the $R^2_{\\text{adj}}$ as our metric using our training data.  Be sure to show your work.  That is, don't delete any models that you fit.  Add as many code cells below as you need."
   ]
  },
  {
   "cell_type": "code",
   "execution_count": 11,
   "id": "0f9ec475",
   "metadata": {},
   "outputs": [
    {
     "data": {
      "text/plain": [
       "0.41670841685242455"
      ]
     },
     "execution_count": 11,
     "metadata": {},
     "output_type": "execute_result"
    }
   ],
   "source": [
    "current_model = smf.ols(formula='Days~ Age+ Sex+ Comorbidity+ EdYears+ Education+ Income+ Charges+ Care+ Race+ Pressure+ Blood+ Rate', data=df_train).fit()\n",
    "current_model.rsquared_adj"
   ]
  },
  {
   "cell_type": "code",
   "execution_count": 12,
   "id": "1d0361a5",
   "metadata": {},
   "outputs": [
    {
     "data": {
      "text/plain": [
       "0.4173124379412425"
      ]
     },
     "execution_count": 12,
     "metadata": {},
     "output_type": "execute_result"
    }
   ],
   "source": [
    "#remove age\n",
    "test_model = smf.ols(formula='Days ~ Sex+ Comorbidity+ EdYears+ Education+ Income+ Charges+ Care+ Race+ Pressure+ Blood+ Rate', data=df_train).fit()\n",
    "test_model.rsquared_adj"
   ]
  },
  {
   "cell_type": "code",
   "execution_count": 13,
   "id": "f2813b4d",
   "metadata": {},
   "outputs": [
    {
     "data": {
      "text/plain": [
       "0.4166373960985531"
      ]
     },
     "execution_count": 13,
     "metadata": {},
     "output_type": "execute_result"
    }
   ],
   "source": [
    "#remove sex\n",
    "test_model = smf.ols(formula='Days ~ Age+ Comorbidity+ EdYears+ Education+ Income+ Charges+ Care+ Race+ Pressure+ Blood+ Rate', data=df_train).fit()\n",
    "test_model.rsquared_adj"
   ]
  },
  {
   "cell_type": "code",
   "execution_count": 14,
   "id": "a494c427",
   "metadata": {},
   "outputs": [
    {
     "data": {
      "text/plain": [
       "0.41572660981679455"
      ]
     },
     "execution_count": 14,
     "metadata": {},
     "output_type": "execute_result"
    }
   ],
   "source": [
    "#remove comorbidity\n",
    "test_model = smf.ols(formula='Days ~ Age+ Sex + EdYears+ Education+ Income+ Charges+ Care+ Race+ Pressure+ Blood+ Rate', data=df_train).fit()\n",
    "test_model.rsquared_adj"
   ]
  },
  {
   "cell_type": "code",
   "execution_count": 15,
   "id": "21e04efe",
   "metadata": {},
   "outputs": [
    {
     "data": {
      "text/plain": [
       "0.416572044595623"
      ]
     },
     "execution_count": 15,
     "metadata": {},
     "output_type": "execute_result"
    }
   ],
   "source": [
    "#remove edyears\n",
    "test_model = smf.ols(formula='Days ~ Age+ Comorbidity+ Sex + Education+ Income+ Charges+ Care+ Race+ Pressure+ Blood+ Rate', data=df_train).fit()\n",
    "test_model.rsquared_adj"
   ]
  },
  {
   "cell_type": "code",
   "execution_count": 16,
   "id": "4c699944",
   "metadata": {},
   "outputs": [
    {
     "data": {
      "text/plain": [
       "0.4178507384285448"
      ]
     },
     "execution_count": 16,
     "metadata": {},
     "output_type": "execute_result"
    }
   ],
   "source": [
    "#remove education\n",
    "test_model = smf.ols(formula='Days ~ Age+ Comorbidity+ Sex + EdYears+ Income+ Charges+ Care+ Race+ Pressure+ Blood+ Rate', data=df_train).fit()\n",
    "test_model.rsquared_adj"
   ]
  },
  {
   "cell_type": "code",
   "execution_count": 17,
   "id": "b65a3b5d",
   "metadata": {},
   "outputs": [
    {
     "data": {
      "text/plain": [
       "0.4156311100366198"
      ]
     },
     "execution_count": 17,
     "metadata": {},
     "output_type": "execute_result"
    }
   ],
   "source": [
    "#remove income\n",
    "test_model = smf.ols(formula='Days ~ Age+ Comorbidity+ Sex + EdYears+ Education+ Charges+ Care+ Race+ Pressure+ Blood+ Rate', data=df_train).fit()\n",
    "test_model.rsquared_adj"
   ]
  },
  {
   "cell_type": "code",
   "execution_count": 18,
   "id": "fdca4fa1",
   "metadata": {},
   "outputs": [
    {
     "data": {
      "text/plain": [
       "0.12893747629170826"
      ]
     },
     "execution_count": 18,
     "metadata": {},
     "output_type": "execute_result"
    }
   ],
   "source": [
    "#remove charges\n",
    "test_model = smf.ols(formula='Days ~ Age+ Comorbidity+ Sex + EdYears+ Education+ Income+ Care+ Race+ Pressure+ Blood+ Rate', data=df_train).fit()\n",
    "test_model.rsquared_adj"
   ]
  },
  {
   "cell_type": "code",
   "execution_count": 19,
   "id": "fcff32bb",
   "metadata": {},
   "outputs": [
    {
     "data": {
      "text/plain": [
       "0.417907796496374"
      ]
     },
     "execution_count": 19,
     "metadata": {},
     "output_type": "execute_result"
    }
   ],
   "source": [
    "#remove Care\n",
    "test_model = smf.ols(formula='Days ~ Age+ Comorbidity+ Sex + EdYears+ Education+ Income+ Charges+ Race+ Pressure+ Blood+ Rate', data=df_train).fit()\n",
    "test_model.rsquared_adj"
   ]
  },
  {
   "cell_type": "code",
   "execution_count": 20,
   "id": "ec2da99f",
   "metadata": {},
   "outputs": [
    {
     "data": {
      "text/plain": [
       "0.4115480863926647"
      ]
     },
     "execution_count": 20,
     "metadata": {},
     "output_type": "execute_result"
    }
   ],
   "source": [
    "#remove race\n",
    "test_model = smf.ols(formula='Days ~ Age+ Comorbidity+ Sex + EdYears+ Education+ Income+ Charges+ Care+ Pressure+ Blood+ Rate', data=df_train).fit()\n",
    "test_model.rsquared_adj"
   ]
  },
  {
   "cell_type": "code",
   "execution_count": 21,
   "id": "16cf0213",
   "metadata": {},
   "outputs": [
    {
     "data": {
      "text/plain": [
       "0.3989871528522797"
      ]
     },
     "execution_count": 21,
     "metadata": {},
     "output_type": "execute_result"
    }
   ],
   "source": [
    "#remove pressure\n",
    "test_model = smf.ols(formula='Days ~ Age+ Comorbidity+ Sex + EdYears+ Education+ Income+ Charges+ Care+ Race+ Blood+ Rate', data=df_train).fit()\n",
    "test_model.rsquared_adj"
   ]
  },
  {
   "cell_type": "code",
   "execution_count": 22,
   "id": "52b99a19",
   "metadata": {},
   "outputs": [
    {
     "data": {
      "text/plain": [
       "0.41783289067385465"
      ]
     },
     "execution_count": 22,
     "metadata": {},
     "output_type": "execute_result"
    }
   ],
   "source": [
    "#remove blood\n",
    "test_model = smf.ols(formula='Days ~ Age+ Comorbidity+ Sex + EdYears+ Education+ Income+ Charges+ Care+ Race+ Pressure+ Rate', data=df_train).fit()\n",
    "test_model.rsquared_adj"
   ]
  },
  {
   "cell_type": "code",
   "execution_count": 23,
   "id": "5837ad1f",
   "metadata": {},
   "outputs": [
    {
     "data": {
      "text/plain": [
       "0.4172637897393483"
      ]
     },
     "execution_count": 23,
     "metadata": {},
     "output_type": "execute_result"
    }
   ],
   "source": [
    "#remove rate\n",
    "test_model = smf.ols(formula='Days ~ Age+ Comorbidity+ Sex + EdYears+ Education+ Income+ Charges+ Care+ Race+ Pressure+ Blood', data=df_train).fit()\n",
    "test_model.rsquared_adj"
   ]
  },
  {
   "cell_type": "code",
   "execution_count": 24,
   "id": "68144988",
   "metadata": {},
   "outputs": [
    {
     "data": {
      "text/plain": [
       "0.417907796496374"
      ]
     },
     "execution_count": 24,
     "metadata": {},
     "output_type": "execute_result"
    }
   ],
   "source": [
    "#remove care from current model\n",
    "current_model = smf.ols(formula='Days ~ Age+ Comorbidity+ Sex + EdYears+ Education+ Income+ Charges+ Race+ Pressure+ Blood+ Rate', data=df_train).fit()\n",
    "current_model.rsquared_adj"
   ]
  },
  {
   "cell_type": "code",
   "execution_count": 25,
   "id": "6b43f4f8",
   "metadata": {},
   "outputs": [
    {
     "data": {
      "text/plain": [
       "0.4184759104555196"
      ]
     },
     "execution_count": 25,
     "metadata": {},
     "output_type": "execute_result"
    }
   ],
   "source": [
    "#remove age\n",
    "test_model = smf.ols(formula='Days ~ Comorbidity+ Sex + EdYears+ Education+ Income+ Charges+ Race+ Pressure+ Blood+ Rate', data=df_train).fit()\n",
    "test_model.rsquared_adj"
   ]
  },
  {
   "cell_type": "code",
   "execution_count": 26,
   "id": "a49d76cf",
   "metadata": {},
   "outputs": [
    {
     "data": {
      "text/plain": [
       "0.41659953250528947"
      ]
     },
     "execution_count": 26,
     "metadata": {},
     "output_type": "execute_result"
    }
   ],
   "source": [
    "#remove comorbidity\n",
    "test_model = smf.ols(formula='Days ~ Age+ Sex + EdYears+ Education+ Income+ Charges+ Race+ Pressure+ Blood+ Rate', data=df_train).fit()\n",
    "test_model.rsquared_adj"
   ]
  },
  {
   "cell_type": "code",
   "execution_count": 27,
   "id": "36298090",
   "metadata": {},
   "outputs": [
    {
     "data": {
      "text/plain": [
       "0.41782502866468707"
      ]
     },
     "execution_count": 27,
     "metadata": {},
     "output_type": "execute_result"
    }
   ],
   "source": [
    "#remove sex\n",
    "test_model = smf.ols(formula='Days ~ Age+ Comorbidity + EdYears+ Education+ Income+ Charges+ Race+ Pressure+ Blood+ Rate', data=df_train).fit()\n",
    "test_model.rsquared_adj"
   ]
  },
  {
   "cell_type": "code",
   "execution_count": 28,
   "id": "e06c43e5",
   "metadata": {},
   "outputs": [
    {
     "data": {
      "text/plain": [
       "0.41775924937552156"
      ]
     },
     "execution_count": 28,
     "metadata": {},
     "output_type": "execute_result"
    }
   ],
   "source": [
    "#remove edyears\n",
    "test_model = smf.ols(formula='Days ~ Age+ Comorbidity + Sex+ Education+ Income+ Charges+ Race+ Pressure+ Blood+ Rate', data=df_train).fit()\n",
    "test_model.rsquared_adj"
   ]
  },
  {
   "cell_type": "code",
   "execution_count": 29,
   "id": "5d61db27",
   "metadata": {},
   "outputs": [
    {
     "data": {
      "text/plain": [
       "0.41905038420578156"
      ]
     },
     "execution_count": 29,
     "metadata": {},
     "output_type": "execute_result"
    }
   ],
   "source": [
    "#remove education\n",
    "test_model = smf.ols(formula='Days ~ Age+ Comorbidity + Sex+ EdYears+ Income+ Charges+ Race+ Pressure+ Blood+ Rate', data=df_train).fit()\n",
    "test_model.rsquared_adj"
   ]
  },
  {
   "cell_type": "code",
   "execution_count": 30,
   "id": "6f906445",
   "metadata": {},
   "outputs": [
    {
     "data": {
      "text/plain": [
       "0.4167869504592884"
      ]
     },
     "execution_count": 30,
     "metadata": {},
     "output_type": "execute_result"
    }
   ],
   "source": [
    "#remove income\n",
    "test_model = smf.ols(formula='Days ~ Age+ Comorbidity + Sex+ EdYears+ Education+ Charges+ Race+ Pressure+ Blood+ Rate', data=df_train).fit()\n",
    "test_model.rsquared_adj"
   ]
  },
  {
   "cell_type": "code",
   "execution_count": 31,
   "id": "4a70ddaa",
   "metadata": {},
   "outputs": [
    {
     "data": {
      "text/plain": [
       "0.06967923272540011"
      ]
     },
     "execution_count": 31,
     "metadata": {},
     "output_type": "execute_result"
    }
   ],
   "source": [
    "#remove charges\n",
    "test_model = smf.ols(formula='Days ~ Age+ Comorbidity + Sex+ EdYears+ Education+ Income+ Race+ Pressure+ Blood+ Rate', data=df_train).fit()\n",
    "test_model.rsquared_adj"
   ]
  },
  {
   "cell_type": "code",
   "execution_count": 32,
   "id": "7ec863f2",
   "metadata": {},
   "outputs": [
    {
     "data": {
      "text/plain": [
       "0.4126971037695075"
      ]
     },
     "execution_count": 32,
     "metadata": {},
     "output_type": "execute_result"
    }
   ],
   "source": [
    "#remove race\n",
    "test_model = smf.ols(formula='Days ~ Age+ Comorbidity + Sex+ EdYears+ Education+ Income+ Charges+ Pressure+ Blood+ Rate', data=df_train).fit()\n",
    "test_model.rsquared_adj"
   ]
  },
  {
   "cell_type": "code",
   "execution_count": 33,
   "id": "ee36b21d",
   "metadata": {},
   "outputs": [
    {
     "data": {
      "text/plain": [
       "0.4003040596784627"
      ]
     },
     "execution_count": 33,
     "metadata": {},
     "output_type": "execute_result"
    }
   ],
   "source": [
    "#remove pressure\n",
    "test_model = smf.ols(formula='Days ~ Age+ Comorbidity + Sex+ EdYears+ Education+ Income+ Charges+ Race+ Blood+ Rate', data=df_train).fit()\n",
    "test_model.rsquared_adj"
   ]
  },
  {
   "cell_type": "code",
   "execution_count": 34,
   "id": "21ed9793",
   "metadata": {},
   "outputs": [
    {
     "data": {
      "text/plain": [
       "0.41904097206363233"
      ]
     },
     "execution_count": 34,
     "metadata": {},
     "output_type": "execute_result"
    }
   ],
   "source": [
    "#remove blood\n",
    "test_model = smf.ols(formula='Days ~ Age+ Comorbidity + Sex+ EdYears+ Education+ Income+ Charges+ Race+ Pressure+ Rate', data=df_train).fit()\n",
    "test_model.rsquared_adj"
   ]
  },
  {
   "cell_type": "code",
   "execution_count": 35,
   "id": "243afac3",
   "metadata": {},
   "outputs": [
    {
     "data": {
      "text/plain": [
       "0.4183188032761911"
      ]
     },
     "execution_count": 35,
     "metadata": {},
     "output_type": "execute_result"
    }
   ],
   "source": [
    "#remove rate\n",
    "test_model = smf.ols(formula='Days ~ Age+ Comorbidity + Sex+ EdYears+ Education+ Income+ Charges+ Race+ Blood+ Pressure', data=df_train).fit()\n",
    "test_model.rsquared_adj"
   ]
  },
  {
   "cell_type": "code",
   "execution_count": 36,
   "id": "259621af",
   "metadata": {},
   "outputs": [
    {
     "data": {
      "text/plain": [
       "0.41905038420578156"
      ]
     },
     "execution_count": 36,
     "metadata": {},
     "output_type": "execute_result"
    }
   ],
   "source": [
    "#remove education from current model\n",
    "current_model = smf.ols(formula='Days ~ Age+ Comorbidity + Sex+ EdYears+ Income+ Charges+ Race+ Pressure+ Blood+ Rate', data=df_train).fit()\n",
    "current_model.rsquared_adj"
   ]
  },
  {
   "cell_type": "code",
   "execution_count": 37,
   "id": "1e61058c",
   "metadata": {},
   "outputs": [
    {
     "data": {
      "text/plain": [
       "0.4195448214601327"
      ]
     },
     "execution_count": 37,
     "metadata": {},
     "output_type": "execute_result"
    }
   ],
   "source": [
    "#remove age\n",
    "test_model = smf.ols(formula='Days ~  Comorbidity + Sex+ EdYears+ Income+ Charges+ Race+ Pressure+ Blood+ Rate', data=df_train).fit()\n",
    "test_model.rsquared_adj"
   ]
  },
  {
   "cell_type": "code",
   "execution_count": 38,
   "id": "ad6d113d",
   "metadata": {},
   "outputs": [
    {
     "data": {
      "text/plain": [
       "0.41778117780788737"
      ]
     },
     "execution_count": 38,
     "metadata": {},
     "output_type": "execute_result"
    }
   ],
   "source": [
    "#remove comorbidity\n",
    "test_model = smf.ols(formula='Days ~  Age + Sex+ EdYears+ Income+ Charges+ Race+ Pressure+ Blood+ Rate', data=df_train).fit()\n",
    "test_model.rsquared_adj"
   ]
  },
  {
   "cell_type": "code",
   "execution_count": 39,
   "id": "5abdbfab",
   "metadata": {},
   "outputs": [
    {
     "data": {
      "text/plain": [
       "0.4189546337623413"
      ]
     },
     "execution_count": 39,
     "metadata": {},
     "output_type": "execute_result"
    }
   ],
   "source": [
    "#remove sex\n",
    "test_model = smf.ols(formula='Days ~  Age + Comorbidity+ EdYears+ Income+ Charges+ Race+ Pressure+ Blood+ Rate', data=df_train).fit()\n",
    "test_model.rsquared_adj"
   ]
  },
  {
   "cell_type": "code",
   "execution_count": 40,
   "id": "568ae249",
   "metadata": {},
   "outputs": [
    {
     "data": {
      "text/plain": [
       "0.41629288025067224"
      ]
     },
     "execution_count": 40,
     "metadata": {},
     "output_type": "execute_result"
    }
   ],
   "source": [
    "#remove EdYears\n",
    "test_model = smf.ols(formula='Days ~  Age + Comorbidity+ Sex+ Income+ Charges+ Race+ Pressure+ Blood+ Rate', data=df_train).fit()\n",
    "test_model.rsquared_adj"
   ]
  },
  {
   "cell_type": "code",
   "execution_count": 41,
   "id": "dd2ba534",
   "metadata": {},
   "outputs": [
    {
     "data": {
      "text/plain": [
       "0.4177584790948565"
      ]
     },
     "execution_count": 41,
     "metadata": {},
     "output_type": "execute_result"
    }
   ],
   "source": [
    "#remove Income\n",
    "test_model = smf.ols(formula='Days ~  Age + Comorbidity+ Sex+ EdYears+ Charges+ Race+ Pressure+ Blood+ Rate', data=df_train).fit()\n",
    "test_model.rsquared_adj"
   ]
  },
  {
   "cell_type": "code",
   "execution_count": 42,
   "id": "9b814dc9",
   "metadata": {},
   "outputs": [
    {
     "data": {
      "text/plain": [
       "0.07169042487409505"
      ]
     },
     "execution_count": 42,
     "metadata": {},
     "output_type": "execute_result"
    }
   ],
   "source": [
    "#remove charges\n",
    "test_model = smf.ols(formula='Days ~  Age + Comorbidity+ Sex+ EdYears+ Income + Race+ Pressure+ Blood+ Rate', data=df_train).fit()\n",
    "test_model.rsquared_adj"
   ]
  },
  {
   "cell_type": "code",
   "execution_count": 43,
   "id": "60b7bc9f",
   "metadata": {},
   "outputs": [
    {
     "data": {
      "text/plain": [
       "0.4135778713431346"
      ]
     },
     "execution_count": 43,
     "metadata": {},
     "output_type": "execute_result"
    }
   ],
   "source": [
    "#remove Race\n",
    "test_model = smf.ols(formula='Days ~  Age + Comorbidity+ Sex+ EdYears+ Income + Charges+ Pressure+ Blood+ Rate', data=df_train).fit()\n",
    "test_model.rsquared_adj"
   ]
  },
  {
   "cell_type": "code",
   "execution_count": 44,
   "id": "b1d48b95",
   "metadata": {},
   "outputs": [
    {
     "data": {
      "text/plain": [
       "0.40142831746748797"
      ]
     },
     "execution_count": 44,
     "metadata": {},
     "output_type": "execute_result"
    }
   ],
   "source": [
    "#remove pressure\n",
    "test_model = smf.ols(formula='Days ~  Age + Comorbidity+ Sex+ EdYears+ Income + Charges+ Race+ Blood+ Rate', data=df_train).fit()\n",
    "test_model.rsquared_adj"
   ]
  },
  {
   "cell_type": "code",
   "execution_count": 45,
   "id": "05336139",
   "metadata": {},
   "outputs": [
    {
     "data": {
      "text/plain": [
       "0.4201723805339811"
      ]
     },
     "execution_count": 45,
     "metadata": {},
     "output_type": "execute_result"
    }
   ],
   "source": [
    "#remove blood\n",
    "test_model = smf.ols(formula='Days ~  Age + Comorbidity+ Sex+ EdYears+ Income + Charges+ Race+ Pressure+ Rate', data=df_train).fit()\n",
    "test_model.rsquared_adj"
   ]
  },
  {
   "cell_type": "code",
   "execution_count": 46,
   "id": "60a339cc",
   "metadata": {},
   "outputs": [
    {
     "data": {
      "text/plain": [
       "0.41950122954314306"
      ]
     },
     "execution_count": 46,
     "metadata": {},
     "output_type": "execute_result"
    }
   ],
   "source": [
    "#remove rate\n",
    "test_model = smf.ols(formula='Days ~  Age + Comorbidity+ Sex+ EdYears+ Income + Charges+ Race+ Pressure+ Blood', data=df_train).fit()\n",
    "test_model.rsquared_adj"
   ]
  },
  {
   "cell_type": "code",
   "execution_count": 47,
   "id": "c481cf02",
   "metadata": {},
   "outputs": [
    {
     "data": {
      "text/plain": [
       "0.4201723805339811"
      ]
     },
     "execution_count": 47,
     "metadata": {},
     "output_type": "execute_result"
    }
   ],
   "source": [
    "#remove blood from current model\n",
    "current_model = smf.ols(formula='Days ~  Age + Comorbidity+ Sex+ EdYears+ Income + Charges+ Race+ Pressure+ Rate', data=df_train).fit()\n",
    "current_model.rsquared_adj"
   ]
  },
  {
   "cell_type": "code",
   "execution_count": 48,
   "id": "3f3746aa",
   "metadata": {},
   "outputs": [
    {
     "data": {
      "text/plain": [
       "0.4205968640042699"
      ]
     },
     "execution_count": 48,
     "metadata": {},
     "output_type": "execute_result"
    }
   ],
   "source": [
    "#remove age\n",
    "test_model = smf.ols(formula='Days ~ Comorbidity+ Sex+ EdYears+ Income + Charges+ Race+ Pressure+ Rate', data=df_train).fit()\n",
    "test_model.rsquared_adj"
   ]
  },
  {
   "cell_type": "code",
   "execution_count": 49,
   "id": "67875cfb",
   "metadata": {},
   "outputs": [
    {
     "data": {
      "text/plain": [
       "0.419044604152108"
      ]
     },
     "execution_count": 49,
     "metadata": {},
     "output_type": "execute_result"
    }
   ],
   "source": [
    "#remove comorbidity\n",
    "test_model = smf.ols(formula='Days ~ Age+ Sex+ EdYears+ Income + Charges+ Race+ Pressure+ Rate', data=df_train).fit()\n",
    "test_model.rsquared_adj"
   ]
  },
  {
   "cell_type": "code",
   "execution_count": 50,
   "id": "37120103",
   "metadata": {},
   "outputs": [
    {
     "data": {
      "text/plain": [
       "0.4201503299933751"
      ]
     },
     "execution_count": 50,
     "metadata": {},
     "output_type": "execute_result"
    }
   ],
   "source": [
    "#remove sex\n",
    "test_model = smf.ols(formula='Days ~ Age+ Comorbidity+ EdYears+ Income + Charges+ Race+ Pressure+ Rate', data=df_train).fit()\n",
    "test_model.rsquared_adj"
   ]
  },
  {
   "cell_type": "code",
   "execution_count": 51,
   "id": "6d4981ae",
   "metadata": {},
   "outputs": [
    {
     "data": {
      "text/plain": [
       "0.41749586634854985"
      ]
     },
     "execution_count": 51,
     "metadata": {},
     "output_type": "execute_result"
    }
   ],
   "source": [
    "#remove edyears\n",
    "test_model = smf.ols(formula='Days ~ Age+ Comorbidity+ Sex+ Income + Charges+ Race+ Pressure+ Rate', data=df_train).fit()\n",
    "test_model.rsquared_adj"
   ]
  },
  {
   "cell_type": "code",
   "execution_count": 52,
   "id": "dac2d2c9",
   "metadata": {},
   "outputs": [
    {
     "data": {
      "text/plain": [
       "0.4189507949126139"
      ]
     },
     "execution_count": 52,
     "metadata": {},
     "output_type": "execute_result"
    }
   ],
   "source": [
    "#remove income\n",
    "test_model = smf.ols(formula='Days ~ Age+ Comorbidity+ Sex+ EdYears + Charges+ Race+ Pressure+ Rate', data=df_train).fit()\n",
    "test_model.rsquared_adj"
   ]
  },
  {
   "cell_type": "code",
   "execution_count": 53,
   "id": "2e3e7753",
   "metadata": {},
   "outputs": [
    {
     "data": {
      "text/plain": [
       "0.07207941954353858"
      ]
     },
     "execution_count": 53,
     "metadata": {},
     "output_type": "execute_result"
    }
   ],
   "source": [
    "#remove charges\n",
    "test_model = smf.ols(formula='Days ~ Age+ Comorbidity+ Sex+ EdYears + Income+ Race+ Pressure+ Rate', data=df_train).fit()\n",
    "test_model.rsquared_adj"
   ]
  },
  {
   "cell_type": "code",
   "execution_count": 54,
   "id": "21364e1b",
   "metadata": {},
   "outputs": [
    {
     "data": {
      "text/plain": [
       "0.4148012932589584"
      ]
     },
     "execution_count": 54,
     "metadata": {},
     "output_type": "execute_result"
    }
   ],
   "source": [
    "#remove race\n",
    "test_model = smf.ols(formula='Days ~ Age+ Comorbidity+ Sex+ EdYears + Income+ Charges+ Pressure+ Rate', data=df_train).fit()\n",
    "test_model.rsquared_adj"
   ]
  },
  {
   "cell_type": "code",
   "execution_count": 55,
   "id": "8b88c023",
   "metadata": {},
   "outputs": [
    {
     "data": {
      "text/plain": [
       "0.4026945638896666"
      ]
     },
     "execution_count": 55,
     "metadata": {},
     "output_type": "execute_result"
    }
   ],
   "source": [
    "#remove pressure\n",
    "test_model = smf.ols(formula='Days ~ Age+ Comorbidity+ Sex+ EdYears + Income+ Charges+ Race+ Rate', data=df_train).fit()\n",
    "test_model.rsquared_adj"
   ]
  },
  {
   "cell_type": "code",
   "execution_count": 56,
   "id": "29b04651",
   "metadata": {},
   "outputs": [
    {
     "data": {
      "text/plain": [
       "0.42068951998809423"
      ]
     },
     "execution_count": 56,
     "metadata": {},
     "output_type": "execute_result"
    }
   ],
   "source": [
    "#remove rate\n",
    "test_model = smf.ols(formula='Days ~ Age+ Comorbidity+ Sex+ EdYears + Income+ Charges+ Race+ Pressure', data=df_train).fit()\n",
    "test_model.rsquared_adj"
   ]
  },
  {
   "cell_type": "code",
   "execution_count": 57,
   "id": "684c8e66",
   "metadata": {},
   "outputs": [
    {
     "data": {
      "text/plain": [
       "0.42068951998809423"
      ]
     },
     "execution_count": 57,
     "metadata": {},
     "output_type": "execute_result"
    }
   ],
   "source": [
    "#remove rate from current model\n",
    "current_model = smf.ols(formula='Days ~ Age+ Comorbidity+ Sex+ EdYears + Income+ Charges+ Race+ Pressure', data=df_train).fit()\n",
    "current_model.rsquared_adj"
   ]
  },
  {
   "cell_type": "code",
   "execution_count": 58,
   "id": "2b785ca5",
   "metadata": {},
   "outputs": [
    {
     "data": {
      "text/plain": [
       "0.42083195756729097"
      ]
     },
     "execution_count": 58,
     "metadata": {},
     "output_type": "execute_result"
    }
   ],
   "source": [
    "#remove age\n",
    "test_model = smf.ols(formula='Days ~ Comorbidity+ Sex+ EdYears + Income+ Charges+ Race+ Pressure', data=df_train).fit()\n",
    "test_model.rsquared_adj"
   ]
  },
  {
   "cell_type": "code",
   "execution_count": 59,
   "id": "852dfd6a",
   "metadata": {},
   "outputs": [
    {
     "data": {
      "text/plain": [
       "0.41954050257651243"
      ]
     },
     "execution_count": 59,
     "metadata": {},
     "output_type": "execute_result"
    }
   ],
   "source": [
    "#remove comorbidity\n",
    "test_model = smf.ols(formula='Days ~ Age+ Sex+ EdYears + Income+ Charges+ Race+ Pressure', data=df_train).fit()\n",
    "test_model.rsquared_adj"
   ]
  },
  {
   "cell_type": "code",
   "execution_count": 60,
   "id": "8e80c4d4",
   "metadata": {},
   "outputs": [
    {
     "data": {
      "text/plain": [
       "0.42039916372437125"
      ]
     },
     "execution_count": 60,
     "metadata": {},
     "output_type": "execute_result"
    }
   ],
   "source": [
    "#remove sex\n",
    "test_model = smf.ols(formula='Days ~ Age+ Comorbidity+ EdYears + Income+ Charges+ Race+ Pressure', data=df_train).fit()\n",
    "test_model.rsquared_adj"
   ]
  },
  {
   "cell_type": "code",
   "execution_count": 61,
   "id": "165d68c7",
   "metadata": {},
   "outputs": [
    {
     "data": {
      "text/plain": [
       "0.4178182933794341"
      ]
     },
     "execution_count": 61,
     "metadata": {},
     "output_type": "execute_result"
    }
   ],
   "source": [
    "#remove edyears\n",
    "test_model = smf.ols(formula='Days ~ Age+ Comorbidity+ Sex + Income+ Charges+ Race+ Pressure', data=df_train).fit()\n",
    "test_model.rsquared_adj"
   ]
  },
  {
   "cell_type": "code",
   "execution_count": 62,
   "id": "1a6acca8",
   "metadata": {},
   "outputs": [
    {
     "data": {
      "text/plain": [
       "0.41925578163532684"
      ]
     },
     "execution_count": 62,
     "metadata": {},
     "output_type": "execute_result"
    }
   ],
   "source": [
    "#remove income\n",
    "test_model = smf.ols(formula='Days ~ Age+ Comorbidity+ Sex + EdYears+ Charges+ Race+ Pressure', data=df_train).fit()\n",
    "test_model.rsquared_adj"
   ]
  },
  {
   "cell_type": "code",
   "execution_count": 63,
   "id": "f7e0c3f0",
   "metadata": {},
   "outputs": [
    {
     "data": {
      "text/plain": [
       "0.04216393614979874"
      ]
     },
     "execution_count": 63,
     "metadata": {},
     "output_type": "execute_result"
    }
   ],
   "source": [
    "#remove charges\n",
    "test_model = smf.ols(formula='Days ~ Age+ Comorbidity+ Sex + EdYears+ Income+ Race+ Pressure', data=df_train).fit()\n",
    "test_model.rsquared_adj"
   ]
  },
  {
   "cell_type": "code",
   "execution_count": 64,
   "id": "4b2472f1",
   "metadata": {},
   "outputs": [
    {
     "data": {
      "text/plain": [
       "0.4153644740849932"
      ]
     },
     "execution_count": 64,
     "metadata": {},
     "output_type": "execute_result"
    }
   ],
   "source": [
    "#remove race\n",
    "test_model = smf.ols(formula='Days ~ Age+ Comorbidity+ Sex + EdYears+ Income+ Charges+ Pressure', data=df_train).fit()\n",
    "test_model.rsquared_adj"
   ]
  },
  {
   "cell_type": "code",
   "execution_count": 65,
   "id": "67998a44",
   "metadata": {},
   "outputs": [
    {
     "data": {
      "text/plain": [
       "0.4026788255277326"
      ]
     },
     "execution_count": 65,
     "metadata": {},
     "output_type": "execute_result"
    }
   ],
   "source": [
    "#remove pressure\n",
    "test_model = smf.ols(formula='Days ~ Age+ Comorbidity+ Sex + EdYears+ Income+ Charges+ Race', data=df_train).fit()\n",
    "test_model.rsquared_adj"
   ]
  },
  {
   "cell_type": "code",
   "execution_count": 66,
   "id": "cdb04d9f",
   "metadata": {},
   "outputs": [
    {
     "data": {
      "text/plain": [
       "0.42083195756729097"
      ]
     },
     "execution_count": 66,
     "metadata": {},
     "output_type": "execute_result"
    }
   ],
   "source": [
    "#remove age from current model\n",
    "test_model = smf.ols(formula='Days ~ Comorbidity+ Sex+ EdYears + Income+ Charges+ Race+ Pressure', data=df_train).fit()\n",
    "test_model.rsquared_adj"
   ]
  },
  {
   "cell_type": "code",
   "execution_count": 67,
   "id": "4d47270b",
   "metadata": {},
   "outputs": [
    {
     "data": {
      "text/plain": [
       "0.41945154059753875"
      ]
     },
     "execution_count": 67,
     "metadata": {},
     "output_type": "execute_result"
    }
   ],
   "source": [
    "#remove comorbidity\n",
    "test_model = smf.ols(formula='Days ~  Sex+ EdYears + Income+ Charges+ Race+ Pressure', data=df_train).fit()\n",
    "test_model.rsquared_adj"
   ]
  },
  {
   "cell_type": "code",
   "execution_count": 68,
   "id": "c8a571aa",
   "metadata": {},
   "outputs": [
    {
     "data": {
      "text/plain": [
       "0.4206659232313035"
      ]
     },
     "execution_count": 68,
     "metadata": {},
     "output_type": "execute_result"
    }
   ],
   "source": [
    "#remove sex\n",
    "test_model = smf.ols(formula='Days ~  Comorbidity+ EdYears + Income+ Charges+ Race+ Pressure', data=df_train).fit()\n",
    "test_model.rsquared_adj"
   ]
  },
  {
   "cell_type": "code",
   "execution_count": 69,
   "id": "ab948ee3",
   "metadata": {},
   "outputs": [
    {
     "data": {
      "text/plain": [
       "0.41849244600047686"
      ]
     },
     "execution_count": 69,
     "metadata": {},
     "output_type": "execute_result"
    }
   ],
   "source": [
    "#remove Edyears\n",
    "test_model = smf.ols(formula='Days ~  Comorbidity+ Sex + Income+ Charges+ Race+ Pressure', data=df_train).fit()\n",
    "test_model.rsquared_adj"
   ]
  },
  {
   "cell_type": "code",
   "execution_count": 70,
   "id": "792c3325",
   "metadata": {},
   "outputs": [
    {
     "data": {
      "text/plain": [
       "0.41930337246251626"
      ]
     },
     "execution_count": 70,
     "metadata": {},
     "output_type": "execute_result"
    }
   ],
   "source": [
    "#remove income\n",
    "test_model = smf.ols(formula='Days ~  Comorbidity+ Sex + EdYears+ Charges+ Race+ Pressure', data=df_train).fit()\n",
    "test_model.rsquared_adj"
   ]
  },
  {
   "cell_type": "code",
   "execution_count": 71,
   "id": "d96369e8",
   "metadata": {},
   "outputs": [
    {
     "data": {
      "text/plain": [
       "0.03283096759452342"
      ]
     },
     "execution_count": 71,
     "metadata": {},
     "output_type": "execute_result"
    }
   ],
   "source": [
    "#remove charges\n",
    "test_model = smf.ols(formula='Days ~  Comorbidity+ Sex + EdYears+ Income+ Race+ Pressure', data=df_train).fit()\n",
    "test_model.rsquared_adj"
   ]
  },
  {
   "cell_type": "code",
   "execution_count": 72,
   "id": "17410265",
   "metadata": {},
   "outputs": [
    {
     "data": {
      "text/plain": [
       "0.41630618341515957"
      ]
     },
     "execution_count": 72,
     "metadata": {},
     "output_type": "execute_result"
    }
   ],
   "source": [
    "#remove race\n",
    "test_model = smf.ols(formula='Days ~  Comorbidity+ Sex + EdYears+ Income+ Charges+ Pressure', data=df_train).fit()\n",
    "test_model.rsquared_adj"
   ]
  },
  {
   "cell_type": "code",
   "execution_count": 73,
   "id": "6fc17b30",
   "metadata": {},
   "outputs": [
    {
     "data": {
      "text/plain": [
       "0.40252035066624625"
      ]
     },
     "execution_count": 73,
     "metadata": {},
     "output_type": "execute_result"
    }
   ],
   "source": [
    "#remove pressure\n",
    "test_model = smf.ols(formula='Days ~  Comorbidity+ Sex + EdYears+ Income+ Charges+ Race', data=df_train).fit()\n",
    "test_model.rsquared_adj"
   ]
  },
  {
   "cell_type": "markdown",
   "id": "b3246dd0",
   "metadata": {},
   "source": [
    "**b)** Report the final set of predictors selected for your parsimonious model.  "
   ]
  },
  {
   "cell_type": "markdown",
   "id": "25d8716a",
   "metadata": {},
   "source": [
    "The final set of predictors from my parsimonious model would Comorbidity, Sex, EdYears, Income, Charges, Race, and pressure."
   ]
  },
  {
   "cell_type": "markdown",
   "id": "7e398839",
   "metadata": {},
   "source": [
    "**c)** What is the $R^2_{\\text{adj}}$ for this model?"
   ]
  },
  {
   "cell_type": "code",
   "execution_count": 74,
   "id": "42c5392b",
   "metadata": {},
   "outputs": [
    {
     "data": {
      "text/plain": [
       "0.42083195756729097"
      ]
     },
     "execution_count": 74,
     "metadata": {},
     "output_type": "execute_result"
    }
   ],
   "source": [
    "current_model = smf.ols(formula='Days ~ Comorbidity+ Sex+ EdYears + Income+ Charges+ Race+ Pressure', data=df_train).fit()\n",
    "current_model.rsquared_adj"
   ]
  },
  {
   "cell_type": "markdown",
   "id": "4603be9e",
   "metadata": {},
   "source": [
    "**d)** Is this the best possible $R^2_{\\text{adj}}$ that could be acheived from any possible combination of these predictors?  Briefly explain."
   ]
  },
  {
   "cell_type": "markdown",
   "id": "f4d63864",
   "metadata": {},
   "source": [
    "Yes it is. When we perform each iteration, we remove one variable. At the end, we compare the adjusted R^2 values to the current model's adjusted R^2 value and if it is less than the current model's adjusted R^2 value, then we run through another iteration. After running through multiple iterations, we were able to find one variation of a test model whose adjusted R^2 value was larger than the current model of that iteration's adjusted R^2, making it the best possible adjusted R^2 value to be achieved. Therefore, the best adjusted R^2 value only contains the following predictors: comorbidity, sex, edyears, income, charges, race, and pressure. These predictors yielded the largest adjusted R^2 value, meaning that there is a relatively large proportion of variance."
   ]
  },
  {
   "cell_type": "markdown",
   "id": "b05256fe",
   "metadata": {},
   "source": [
    "**e)** What was the least helpful predictor variable in your original model?"
   ]
  },
  {
   "cell_type": "markdown",
   "id": "00dbc088",
   "metadata": {},
   "source": [
    "Care was the least helpful predictor variable in my original model because the adjusted r^2 value was only 0.4179."
   ]
  },
  {
   "cell_type": "markdown",
   "id": "b4f84c9c",
   "metadata": {},
   "source": [
    "## 6. Exploring our Parsimonious Model [5 points] \n",
    "\n",
    "For this question, we'll use the parsimonious model that you selected in Question 5 above.  \n",
    "\n",
    "**a)** Be sure that you are using the correct model selected in Question 5.  Print the coefficient estimates for this model below.  (It's ok if additional characteristics are printed, too.)"
   ]
  },
  {
   "cell_type": "code",
   "execution_count": 75,
   "id": "826caf84",
   "metadata": {},
   "outputs": [
    {
     "data": {
      "text/html": [
       "<table class=\"simpletable\">\n",
       "<caption>OLS Regression Results</caption>\n",
       "<tr>\n",
       "  <th>Dep. Variable:</th>          <td>Days</td>       <th>  R-squared:         </th> <td>   0.430</td>\n",
       "</tr>\n",
       "<tr>\n",
       "  <th>Model:</th>                   <td>OLS</td>       <th>  Adj. R-squared:    </th> <td>   0.421</td>\n",
       "</tr>\n",
       "<tr>\n",
       "  <th>Method:</th>             <td>Least Squares</td>  <th>  F-statistic:       </th> <td>   49.06</td>\n",
       "</tr>\n",
       "<tr>\n",
       "  <th>Date:</th>             <td>Fri, 06 Oct 2023</td> <th>  Prob (F-statistic):</th> <td>7.61e-52</td>\n",
       "</tr>\n",
       "<tr>\n",
       "  <th>Time:</th>                 <td>14:45:20</td>     <th>  Log-Likelihood:    </th> <td> -1949.7</td>\n",
       "</tr>\n",
       "<tr>\n",
       "  <th>No. Observations:</th>      <td>   464</td>      <th>  AIC:               </th> <td>   3915.</td>\n",
       "</tr>\n",
       "<tr>\n",
       "  <th>Df Residuals:</th>          <td>   456</td>      <th>  BIC:               </th> <td>   3948.</td>\n",
       "</tr>\n",
       "<tr>\n",
       "  <th>Df Model:</th>              <td>     7</td>      <th>                     </th>     <td> </td>   \n",
       "</tr>\n",
       "<tr>\n",
       "  <th>Covariance Type:</th>      <td>nonrobust</td>    <th>                     </th>     <td> </td>   \n",
       "</tr>\n",
       "</table>\n",
       "<table class=\"simpletable\">\n",
       "<tr>\n",
       "           <td></td>             <th>coef</th>     <th>std err</th>      <th>t</th>      <th>P>|t|</th>  <th>[0.025</th>    <th>0.975]</th>  \n",
       "</tr>\n",
       "<tr>\n",
       "  <th>Intercept</th>          <td>    2.8041</td> <td>    5.030</td> <td>    0.557</td> <td> 0.577</td> <td>   -7.081</td> <td>   12.689</td>\n",
       "</tr>\n",
       "<tr>\n",
       "  <th>Comorbidity[T.yes]</th> <td>   -3.5495</td> <td>    2.456</td> <td>   -1.445</td> <td> 0.149</td> <td>   -8.375</td> <td>    1.276</td>\n",
       "</tr>\n",
       "<tr>\n",
       "  <th>Sex[T.male]</th>        <td>   -1.6372</td> <td>    1.539</td> <td>   -1.063</td> <td> 0.288</td> <td>   -4.663</td> <td>    1.388</td>\n",
       "</tr>\n",
       "<tr>\n",
       "  <th>Income[T.low]</th>      <td>    2.5287</td> <td>    1.702</td> <td>    1.485</td> <td> 0.138</td> <td>   -0.817</td> <td>    5.874</td>\n",
       "</tr>\n",
       "<tr>\n",
       "  <th>Race[T.white]</th>      <td>    4.0436</td> <td>    1.891</td> <td>    2.138</td> <td> 0.033</td> <td>    0.327</td> <td>    7.760</td>\n",
       "</tr>\n",
       "<tr>\n",
       "  <th>EdYears</th>            <td>   -0.3850</td> <td>    0.228</td> <td>   -1.687</td> <td> 0.092</td> <td>   -0.833</td> <td>    0.063</td>\n",
       "</tr>\n",
       "<tr>\n",
       "  <th>Charges</th>            <td>    0.0002</td> <td> 9.92e-06</td> <td>   17.526</td> <td> 0.000</td> <td>    0.000</td> <td>    0.000</td>\n",
       "</tr>\n",
       "<tr>\n",
       "  <th>Pressure</th>           <td>    0.1138</td> <td>    0.029</td> <td>    3.931</td> <td> 0.000</td> <td>    0.057</td> <td>    0.171</td>\n",
       "</tr>\n",
       "</table>\n",
       "<table class=\"simpletable\">\n",
       "<tr>\n",
       "  <th>Omnibus:</th>       <td>291.517</td> <th>  Durbin-Watson:     </th> <td>   2.095</td>\n",
       "</tr>\n",
       "<tr>\n",
       "  <th>Prob(Omnibus):</th> <td> 0.000</td>  <th>  Jarque-Bera (JB):  </th> <td>6109.256</td>\n",
       "</tr>\n",
       "<tr>\n",
       "  <th>Skew:</th>          <td> 2.311</td>  <th>  Prob(JB):          </th> <td>    0.00</td>\n",
       "</tr>\n",
       "<tr>\n",
       "  <th>Kurtosis:</th>      <td>20.165</td>  <th>  Cond. No.          </th> <td>6.51e+05</td>\n",
       "</tr>\n",
       "</table><br/><br/>Notes:<br/>[1] Standard Errors assume that the covariance matrix of the errors is correctly specified.<br/>[2] The condition number is large, 6.51e+05. This might indicate that there are<br/>strong multicollinearity or other numerical problems."
      ],
      "text/latex": [
       "\\begin{center}\n",
       "\\begin{tabular}{lclc}\n",
       "\\toprule\n",
       "\\textbf{Dep. Variable:}     &       Days       & \\textbf{  R-squared:         } &     0.430   \\\\\n",
       "\\textbf{Model:}             &       OLS        & \\textbf{  Adj. R-squared:    } &     0.421   \\\\\n",
       "\\textbf{Method:}            &  Least Squares   & \\textbf{  F-statistic:       } &     49.06   \\\\\n",
       "\\textbf{Date:}              & Fri, 06 Oct 2023 & \\textbf{  Prob (F-statistic):} &  7.61e-52   \\\\\n",
       "\\textbf{Time:}              &     14:45:20     & \\textbf{  Log-Likelihood:    } &   -1949.7   \\\\\n",
       "\\textbf{No. Observations:}  &         464      & \\textbf{  AIC:               } &     3915.   \\\\\n",
       "\\textbf{Df Residuals:}      &         456      & \\textbf{  BIC:               } &     3948.   \\\\\n",
       "\\textbf{Df Model:}          &           7      & \\textbf{                     } &             \\\\\n",
       "\\textbf{Covariance Type:}   &    nonrobust     & \\textbf{                     } &             \\\\\n",
       "\\bottomrule\n",
       "\\end{tabular}\n",
       "\\begin{tabular}{lcccccc}\n",
       "                            & \\textbf{coef} & \\textbf{std err} & \\textbf{t} & \\textbf{P$> |$t$|$} & \\textbf{[0.025} & \\textbf{0.975]}  \\\\\n",
       "\\midrule\n",
       "\\textbf{Intercept}          &       2.8041  &        5.030     &     0.557  &         0.577        &       -7.081    &       12.689     \\\\\n",
       "\\textbf{Comorbidity[T.yes]} &      -3.5495  &        2.456     &    -1.445  &         0.149        &       -8.375    &        1.276     \\\\\n",
       "\\textbf{Sex[T.male]}        &      -1.6372  &        1.539     &    -1.063  &         0.288        &       -4.663    &        1.388     \\\\\n",
       "\\textbf{Income[T.low]}      &       2.5287  &        1.702     &     1.485  &         0.138        &       -0.817    &        5.874     \\\\\n",
       "\\textbf{Race[T.white]}      &       4.0436  &        1.891     &     2.138  &         0.033        &        0.327    &        7.760     \\\\\n",
       "\\textbf{EdYears}            &      -0.3850  &        0.228     &    -1.687  &         0.092        &       -0.833    &        0.063     \\\\\n",
       "\\textbf{Charges}            &       0.0002  &     9.92e-06     &    17.526  &         0.000        &        0.000    &        0.000     \\\\\n",
       "\\textbf{Pressure}           &       0.1138  &        0.029     &     3.931  &         0.000        &        0.057    &        0.171     \\\\\n",
       "\\bottomrule\n",
       "\\end{tabular}\n",
       "\\begin{tabular}{lclc}\n",
       "\\textbf{Omnibus:}       & 291.517 & \\textbf{  Durbin-Watson:     } &    2.095  \\\\\n",
       "\\textbf{Prob(Omnibus):} &   0.000 & \\textbf{  Jarque-Bera (JB):  } & 6109.256  \\\\\n",
       "\\textbf{Skew:}          &   2.311 & \\textbf{  Prob(JB):          } &     0.00  \\\\\n",
       "\\textbf{Kurtosis:}      &  20.165 & \\textbf{  Cond. No.          } & 6.51e+05  \\\\\n",
       "\\bottomrule\n",
       "\\end{tabular}\n",
       "%\\caption{OLS Regression Results}\n",
       "\\end{center}\n",
       "\n",
       "Notes: \\newline\n",
       " [1] Standard Errors assume that the covariance matrix of the errors is correctly specified. \\newline\n",
       " [2] The condition number is large, 6.51e+05. This might indicate that there are \\newline\n",
       " strong multicollinearity or other numerical problems."
      ],
      "text/plain": [
       "<class 'statsmodels.iolib.summary.Summary'>\n",
       "\"\"\"\n",
       "                            OLS Regression Results                            \n",
       "==============================================================================\n",
       "Dep. Variable:                   Days   R-squared:                       0.430\n",
       "Model:                            OLS   Adj. R-squared:                  0.421\n",
       "Method:                 Least Squares   F-statistic:                     49.06\n",
       "Date:                Fri, 06 Oct 2023   Prob (F-statistic):           7.61e-52\n",
       "Time:                        14:45:20   Log-Likelihood:                -1949.7\n",
       "No. Observations:                 464   AIC:                             3915.\n",
       "Df Residuals:                     456   BIC:                             3948.\n",
       "Df Model:                           7                                         \n",
       "Covariance Type:            nonrobust                                         \n",
       "======================================================================================\n",
       "                         coef    std err          t      P>|t|      [0.025      0.975]\n",
       "--------------------------------------------------------------------------------------\n",
       "Intercept              2.8041      5.030      0.557      0.577      -7.081      12.689\n",
       "Comorbidity[T.yes]    -3.5495      2.456     -1.445      0.149      -8.375       1.276\n",
       "Sex[T.male]           -1.6372      1.539     -1.063      0.288      -4.663       1.388\n",
       "Income[T.low]          2.5287      1.702      1.485      0.138      -0.817       5.874\n",
       "Race[T.white]          4.0436      1.891      2.138      0.033       0.327       7.760\n",
       "EdYears               -0.3850      0.228     -1.687      0.092      -0.833       0.063\n",
       "Charges                0.0002   9.92e-06     17.526      0.000       0.000       0.000\n",
       "Pressure               0.1138      0.029      3.931      0.000       0.057       0.171\n",
       "==============================================================================\n",
       "Omnibus:                      291.517   Durbin-Watson:                   2.095\n",
       "Prob(Omnibus):                  0.000   Jarque-Bera (JB):             6109.256\n",
       "Skew:                           2.311   Prob(JB):                         0.00\n",
       "Kurtosis:                      20.165   Cond. No.                     6.51e+05\n",
       "==============================================================================\n",
       "\n",
       "Notes:\n",
       "[1] Standard Errors assume that the covariance matrix of the errors is correctly specified.\n",
       "[2] The condition number is large, 6.51e+05. This might indicate that there are\n",
       "strong multicollinearity or other numerical problems.\n",
       "\"\"\""
      ]
     },
     "execution_count": 75,
     "metadata": {},
     "output_type": "execute_result"
    }
   ],
   "source": [
    "current_model.summary()"
   ]
  },
  {
   "cell_type": "markdown",
   "id": "c5fb1195",
   "metadata": {},
   "source": [
    "**b)** Based on the categorical predictors in this model, what features are associated with longer hospitalizations?  In other words, for what groups of patients might we want to target an intervention to reduce the hospitalization time? "
   ]
  },
  {
   "cell_type": "markdown",
   "id": "fa3dc0e4",
   "metadata": {},
   "source": [
    "Based on the categorical predictors, we would want to target race and income, specifically those who are white and have low income, as those are the ones who are associated with longer hospitalizations."
   ]
  },
  {
   "cell_type": "markdown",
   "id": "ed7a921c",
   "metadata": {},
   "source": [
    "**c)** Calculate the RMSE for the parsimonious model on the training data and on the test set.  "
   ]
  },
  {
   "cell_type": "code",
   "execution_count": 76,
   "id": "9b0eb7ca",
   "metadata": {},
   "outputs": [
    {
     "data": {
      "text/plain": [
       "16.165763490001975"
      ]
     },
     "execution_count": 76,
     "metadata": {},
     "output_type": "execute_result"
    }
   ],
   "source": [
    "from sklearn.metrics import mean_squared_error\n",
    "\n",
    "X_train = df_train.drop(['Days'], axis=1)\n",
    "y_train=df_train['Days']\n",
    "X_test = df_test.drop(['Days'], axis=1)\n",
    "y_test=df_test['Days']\n",
    "\n",
    "y_pred_train = current_model.predict(X_train)\n",
    "train_rmse = mean_squared_error(y_train, y_pred_train, squared=False)\n",
    "train_rmse"
   ]
  },
  {
   "cell_type": "code",
   "execution_count": 77,
   "id": "469f8783",
   "metadata": {},
   "outputs": [
    {
     "data": {
      "text/plain": [
       "16.941747490138525"
      ]
     },
     "execution_count": 77,
     "metadata": {},
     "output_type": "execute_result"
    }
   ],
   "source": [
    "y_pred_test = current_model.predict(X_test)\n",
    "test_rmse = mean_squared_error(y_test, y_pred_test, squared=False)\n",
    "test_rmse"
   ]
  },
  {
   "cell_type": "markdown",
   "id": "8f770025",
   "metadata": {},
   "source": [
    "**d)** Now, calculate the RMSE for the full model (from Question 2b) on the training data and on the test set."
   ]
  },
  {
   "cell_type": "code",
   "execution_count": 78,
   "id": "d5432026",
   "metadata": {},
   "outputs": [
    {
     "data": {
      "text/plain": [
       "19.73810187753586"
      ]
     },
     "execution_count": 78,
     "metadata": {},
     "output_type": "execute_result"
    }
   ],
   "source": [
    "y_pred_train = fit_model.predict(X_train)\n",
    "train_rmse = mean_squared_error(y_train, y_pred_train, squared=False)\n",
    "train_rmse"
   ]
  },
  {
   "cell_type": "code",
   "execution_count": 79,
   "id": "655cbe14",
   "metadata": {},
   "outputs": [
    {
     "data": {
      "text/plain": [
       "25.80024026909838"
      ]
     },
     "execution_count": 79,
     "metadata": {},
     "output_type": "execute_result"
    }
   ],
   "source": [
    "y_pred_test = fit_model.predict(X_test)\n",
    "test_rmse = mean_squared_error(y_test, y_pred_test, squared=False)\n",
    "test_rmse"
   ]
  },
  {
   "cell_type": "markdown",
   "id": "d16ed372",
   "metadata": {},
   "source": [
    "**e)** Does the RMSE show evidence that the parsimonious model reduces overfitting to the training set that could be occurring?  Briefly explain."
   ]
  },
  {
   "cell_type": "markdown",
   "id": "99cc7205",
   "metadata": {},
   "source": [
    "Yes it does. The RMSE for the testing data of the complex model has an rmse of 25.8, which is larger than the parsimonious model's testing data rmse of 16.94. This means that it is very likely that the complex model is overfitting the training data, while the parsimonious model is reducing overfitting and providing a better generalization for the data."
   ]
  },
  {
   "cell_type": "markdown",
   "id": "f02327ec",
   "metadata": {},
   "source": [
    "Remember to keep all your cells and hit the save icon above periodically to checkpoint (save) your results on your local computer. Once you are satisified with your results restart the kernel and run all (Kernel -> Restart & Run All). **Make sure nothing has changed**. Checkpoint and exit (File -> Save and Checkpoint + File -> Close and Halt). Follow the instructions on the Homework 5 Canvas Assignment to submit your notebook to GitHub."
   ]
  }
 ],
 "metadata": {
  "kernelspec": {
   "display_name": "Python 3 (ipykernel)",
   "language": "python",
   "name": "python3"
  },
  "language_info": {
   "codemirror_mode": {
    "name": "ipython",
    "version": 3
   },
   "file_extension": ".py",
   "mimetype": "text/x-python",
   "name": "python",
   "nbconvert_exporter": "python",
   "pygments_lexer": "ipython3",
   "version": "3.10.9"
  }
 },
 "nbformat": 4,
 "nbformat_minor": 5
}
